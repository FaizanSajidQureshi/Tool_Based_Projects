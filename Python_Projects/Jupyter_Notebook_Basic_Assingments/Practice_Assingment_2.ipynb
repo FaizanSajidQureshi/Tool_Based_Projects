{
 "cells": [
  {
   "cell_type": "code",
   "execution_count": 31,
   "id": "b0ed9009-f276-4749-97e2-41369d0e018d",
   "metadata": {},
   "outputs": [
    {
     "name": "stdout",
     "output_type": "stream",
     "text": [
      "90\n",
      "71.2\n",
      "['Faizan', 'Rehan', 'Amaan']\n",
      "['Amaan', 'Faizan', 'Nikhat', 'Rehan', 'Zishaan']\n"
     ]
    }
   ],
   "source": [
    "students_name_list = ['Faizan', 'Rehan', 'Amaan', 'Zishaan', 'Nikhat']\n",
    "students_score_list = [89, 82, 90, 45, 50]\n",
    "highest_score = max(students_score_list)\n",
    "print (highest_score)\n",
    "average_score = sum(students_score_list)/len(students_score_list)\n",
    "print (average_score)\n",
    "above_80 = [students_name_list[i] for i in range(len(students_score_list)) if students_score_list[i] > 80]\n",
    "print (above_80)\n",
    "students_names_aplha = sorted(students_name_list)\n",
    "print (students_names_aplha)"
   ]
  },
  {
   "cell_type": "code",
   "execution_count": 43,
   "id": "7207b11e-0e08-4a7f-9c0e-e6a7a60355ed",
   "metadata": {},
   "outputs": [
    {
     "name": "stdout",
     "output_type": "stream",
     "text": [
      "[1, 2, 3, 4, 5, 6, 7, 8, 9, 10]\n",
      "[1, 4, 9, 16, 25, 36, 49, 64, 81, 100]\n",
      "[1, 8, 27, 64, 125, 216, 343, 512, 729, 1000]\n"
     ]
    }
   ],
   "source": [
    "numbers = list(range(1,11))\n",
    "print (numbers)\n",
    "squares = [x**2 for x in numbers]\n",
    "print (squares)\n",
    "cube = [x**3 for x in numbers]\n",
    "print (cube)"
   ]
  },
  {
   "cell_type": "code",
   "execution_count": 48,
   "id": "3224aff2-7933-426b-bc7e-f25e54036911",
   "metadata": {},
   "outputs": [
    {
     "name": "stdout",
     "output_type": "stream",
     "text": [
      "[10, -5, 3, -2, 0, 7, -9]\n",
      "[10, 3, 7]\n"
     ]
    }
   ],
   "source": [
    "org_numbers = [10, -5, 3, -2, 0, 7, -9]\n",
    "print (org_numbers)\n",
    "positive_numbers = [x for x in org_numbers if x >0]\n",
    "print (positive_numbers)"
   ]
  }
 ],
 "metadata": {
  "kernelspec": {
   "display_name": "Python [conda env:base] *",
   "language": "python",
   "name": "conda-base-py"
  },
  "language_info": {
   "codemirror_mode": {
    "name": "ipython",
    "version": 3
   },
   "file_extension": ".py",
   "mimetype": "text/x-python",
   "name": "python",
   "nbconvert_exporter": "python",
   "pygments_lexer": "ipython3",
   "version": "3.12.7"
  }
 },
 "nbformat": 4,
 "nbformat_minor": 5
}
