{
 "cells": [
  {
   "cell_type": "markdown",
   "id": "50e2f01a-715c-470e-9b4f-0fe6088caa51",
   "metadata": {},
   "source": [
    "Part 1 / Q1 - Q4"
   ]
  },
  {
   "cell_type": "code",
   "execution_count": 31,
   "id": "b0ed9009-f276-4749-97e2-41369d0e018d",
   "metadata": {},
   "outputs": [
    {
     "name": "stdout",
     "output_type": "stream",
     "text": [
      "90\n",
      "71.2\n",
      "['Faizan', 'Rehan', 'Amaan']\n",
      "['Amaan', 'Faizan', 'Nikhat', 'Rehan', 'Zishaan']\n"
     ]
    }
   ],
   "source": [
    "students_name_list = ['Faizan', 'Rehan', 'Amaan', 'Zishaan', 'Nikhat']\n",
    "students_score_list = [89, 82, 90, 45, 50]\n",
    "highest_score = max(students_score_list)\n",
    "print (highest_score)\n",
    "average_score = sum(students_score_list)/len(students_score_list)\n",
    "print (average_score)\n",
    "above_80 = [students_name_list[i] for i in range(len(students_score_list)) if students_score_list[i] > 80]\n",
    "print (above_80)\n",
    "students_names_aplha = sorted(students_name_list)\n",
    "print (students_names_aplha)"
   ]
  },
  {
   "cell_type": "code",
   "execution_count": 43,
   "id": "7207b11e-0e08-4a7f-9c0e-e6a7a60355ed",
   "metadata": {},
   "outputs": [
    {
     "name": "stdout",
     "output_type": "stream",
     "text": [
      "[1, 2, 3, 4, 5, 6, 7, 8, 9, 10]\n",
      "[1, 4, 9, 16, 25, 36, 49, 64, 81, 100]\n",
      "[1, 8, 27, 64, 125, 216, 343, 512, 729, 1000]\n"
     ]
    }
   ],
   "source": [
    "numbers = list(range(1,11))\n",
    "print (numbers)\n",
    "squares = [x**2 for x in numbers]\n",
    "print (squares)\n",
    "cube = [x**3 for x in numbers]\n",
    "print (cube)"
   ]
  },
  {
   "cell_type": "code",
   "execution_count": 48,
   "id": "3224aff2-7933-426b-bc7e-f25e54036911",
   "metadata": {},
   "outputs": [
    {
     "name": "stdout",
     "output_type": "stream",
     "text": [
      "[10, -5, 3, -2, 0, 7, -9]\n",
      "[10, 3, 7]\n"
     ]
    }
   ],
   "source": [
    "org_numbers = [10, -5, 3, -2, 0, 7, -9]\n",
    "print (org_numbers)\n",
    "positive_numbers = [x for x in org_numbers if x >0]\n",
    "print (positive_numbers)"
   ]
  },
  {
   "cell_type": "code",
   "execution_count": 4,
   "id": "b563f832-5a2b-4488-a7a0-3270f4d3e15f",
   "metadata": {},
   "outputs": [
    {
     "name": "stdout",
     "output_type": "stream",
     "text": [
      "['Bee', 'Nody', 'RichiRich', 'Spd', 'Sunio']\n"
     ]
    }
   ],
   "source": [
    "names = ['Bee','Sunio','RichiRich','Nody','Spd']\n",
    "sorted_names = sorted(names)\n",
    "print (sorted_names)"
   ]
  },
  {
   "cell_type": "markdown",
   "id": "686eab7a-890d-4eca-83a3-ffec221e2191",
   "metadata": {},
   "source": [
    "Part 2 / Q1 - Q4"
   ]
  },
  {
   "cell_type": "code",
   "execution_count": 5,
   "id": "89c570a3-0f79-42c2-a4ca-f7be6710fb32",
   "metadata": {},
   "outputs": [
    {
     "name": "stdout",
     "output_type": "stream",
     "text": [
      "BIA.DS.1014\n",
      "['sam', 'juliet', 'robin', 'ramson', 'jason']\n",
      "[85, 90, 78, 92, 66]\n",
      "82.2\n",
      "92\n",
      "3\n",
      "ramson\n"
     ]
    }
   ],
   "source": [
    "course_id = \"BIA.DS.1014\"\n",
    "course_student_names = ['sam','juliet','robin','ramson','jason']\n",
    "course_student_grades = [85, 90, 78, 92, 66]\n",
    "course_data = (course_id, course_student_names, course_student_grades)\n",
    "print (course_data[0])\n",
    "print (course_data[1])\n",
    "print (course_data[2])\n",
    "course_average_grade = sum(course_student_grades)/len(course_student_grades)\n",
    "print (course_average_grade)\n",
    "course_highest_score = max(course_data[2])\n",
    "print (course_highest_score)\n",
    "course_highest_score = course_data[2].index(max(course_data[2]))\n",
    "print (course_highest_score)\n",
    "topper_name = course_data[1][course_highest_score_index]\n",
    "print(topper_name)"
   ]
  },
  {
   "cell_type": "code",
   "execution_count": 31,
   "id": "4f0c40e3-ae9a-441c-86b0-284c087c9991",
   "metadata": {},
   "outputs": [
    {
     "name": "stdout",
     "output_type": "stream",
     "text": [
      "('phenias', 10, 70)\n",
      "('ferb', 10, 70)\n",
      "('agent_platypus_perry', 20, 99.99)\n",
      "('stacy', 15, 60)\n",
      "('ben', 10, 40)\n",
      "('agent_platypus_perry', 20, 99.99)\n",
      "('stacy', 15, 60)\n"
     ]
    }
   ],
   "source": [
    "filter_student_names = ['phenias','ferb','agent_platypus_perry','stacy','ben']\n",
    "filter_student_age = [10,10,20,15,10]\n",
    "filter_student_grade = [70,70,99.99,60,40]\n",
    "filter_student_info = [(filter_student_names[i], filter_student_age[i], filter_student_grade[i]) for i in range(len(filter_student_names))]\n",
    "for s in filter_student_info:\n",
    "    print (s)\n",
    "students_above_10 = [student for student in filter_student_info if student[1] > 10]\n",
    "for s in students_above_10:\n",
    "    print(s)"
   ]
  },
  {
   "cell_type": "code",
   "execution_count": 46,
   "id": "d8d80708-da0a-4626-a307-11909896c40e",
   "metadata": {},
   "outputs": [
    {
     "name": "stdout",
     "output_type": "stream",
     "text": [
      "[('baaghaa', 500, 9), ('natu_kaka', 700, 9), ('magan', 200, 12)]\n",
      "[('baaghaa', 4500), ('natu_kaka', 6300), ('magan', 2400)]\n",
      "('natu_kaka', 6300)\n"
     ]
    },
    {
     "ename": "TypeError",
     "evalue": "unsupported operand type(s) for +: 'int' and 'tuple'",
     "output_type": "error",
     "traceback": [
      "\u001b[1;31m---------------------------------------------------------------------------\u001b[0m",
      "\u001b[1;31mTypeError\u001b[0m                                 Traceback (most recent call last)",
      "Cell \u001b[1;32mIn[46], line 10\u001b[0m\n\u001b[0;32m      8\u001b[0m highest_salary_employee \u001b[38;5;241m=\u001b[39m \u001b[38;5;28mmax\u001b[39m(employee_salaries)\n\u001b[0;32m      9\u001b[0m \u001b[38;5;28mprint\u001b[39m (highest_salary_employee)\n\u001b[1;32m---> 10\u001b[0m average_salary \u001b[38;5;241m=\u001b[39m \u001b[38;5;28msum\u001b[39m(employee_salaries)\u001b[38;5;241m/\u001b[39m\u001b[38;5;28mlen\u001b[39m(employee_salaries)\n",
      "\u001b[1;31mTypeError\u001b[0m: unsupported operand type(s) for +: 'int' and 'tuple'"
     ]
    }
   ],
   "source": [
    "employee_names = ['baaghaa','natu_kaka','magan']\n",
    "employee_hourly_rate = [500,700,200]\n",
    "employee_hours_worked = [9,9,12]\n",
    "employee_info = [(names, rate, hours) for names, rate, hours in zip(employee_names,employee_hourly_rate,employee_hours_worked)]\n",
    "print (employee_info)\n",
    "employee_salaries = [(names, rate * hours) for names, rate, hours in employee_info]\n",
    "print (employee_salaries)\n",
    "highest_salary_employee = max(employee_salaries)\n",
    "print (highest_salary_employee)\n",
    "average_salary = sum(employee_salaries)/len(employee_salaries)"
   ]
  }
 ],
 "metadata": {
  "kernelspec": {
   "display_name": "Python [conda env:base] *",
   "language": "python",
   "name": "conda-base-py"
  },
  "language_info": {
   "codemirror_mode": {
    "name": "ipython",
    "version": 3
   },
   "file_extension": ".py",
   "mimetype": "text/x-python",
   "name": "python",
   "nbconvert_exporter": "python",
   "pygments_lexer": "ipython3",
   "version": "3.12.7"
  }
 },
 "nbformat": 4,
 "nbformat_minor": 5
}
