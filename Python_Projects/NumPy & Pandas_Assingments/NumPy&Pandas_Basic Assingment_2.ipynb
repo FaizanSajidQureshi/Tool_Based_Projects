{
 "cells": [
  {
   "cell_type": "code",
   "execution_count": 3,
   "id": "f49393a8-c85c-405b-a5b4-8098ddec78b8",
   "metadata": {},
   "outputs": [
    {
     "name": "stdout",
     "output_type": "stream",
     "text": [
      "Requirement already satisfied: numpy in c:\\users\\hp\\anaconda3\\lib\\site-packages (1.26.4)\n",
      "Note: you may need to restart the kernel to use updated packages.\n"
     ]
    }
   ],
   "source": [
    "pip install numpy"
   ]
  },
  {
   "cell_type": "code",
   "execution_count": 4,
   "id": "04b00ad0-33df-4b17-a7cb-63c8a76904ac",
   "metadata": {},
   "outputs": [
    {
     "name": "stdout",
     "output_type": "stream",
     "text": [
      "[1 2 3 4 5]\n"
     ]
    }
   ],
   "source": [
    "import numpy as np\n",
    "arr = np.array([1,2,3,4,5])"
   ]
  },
  {
   "cell_type": "code",
   "execution_count": 16,
   "id": "466acbc2-1544-4577-bcf2-d90e3571a1ac",
   "metadata": {},
   "outputs": [
    {
     "name": "stdout",
     "output_type": "stream",
     "text": [
      "[[0. 0. 0.]\n",
      " [0. 0. 0.]\n",
      " [0. 0. 0.]]\n",
      "[[1. 1.]\n",
      " [1. 1.]]\n"
     ]
    }
   ],
   "source": [
    "zeros_arr = np.zeros((3,3))\n",
    "ones_arr = np.ones((2,2))\n",
    "print (zeros_arr)\n",
    "print (ones_arr)"
   ]
  },
  {
   "cell_type": "code",
   "execution_count": 19,
   "id": "04b4902b-f981-4dfc-bc57-fa2452790afb",
   "metadata": {},
   "outputs": [
    {
     "name": "stdout",
     "output_type": "stream",
     "text": [
      "[10 15 20 25 30 35 40 45 50 55 60 65 70 75 80 85 90 95]\n"
     ]
    }
   ],
   "source": [
    "arr = np.arange(10,100,5)\n",
    "print (arr)"
   ]
  },
  {
   "cell_type": "code",
   "execution_count": 48,
   "id": "26b5675f-5810-48f7-8e71-0578c73477be",
   "metadata": {},
   "outputs": [
    {
     "name": "stdout",
     "output_type": "stream",
     "text": [
      "[10. 10. 10. 10. 10. 10. 10. 10. 10. 10.]\n"
     ]
    }
   ],
   "source": [
    "lin_arr = np.linspace(10,100,5)\n",
    "print (lin_arr)"
   ]
  },
  {
   "cell_type": "code",
   "execution_count": 55,
   "id": "cc79a887-ffaa-4afd-9c5a-f4cef8ea435b",
   "metadata": {},
   "outputs": [
    {
     "data": {
      "text/plain": [
       "array([ 4.,  8.,  7.,  8., 10.])"
      ]
     },
     "execution_count": 55,
     "metadata": {},
     "output_type": "execute_result"
    }
   ],
   "source": [
    "rand_arr = np.random.uniform(1,10,5)\n",
    "np.round(rand_arr)"
   ]
  },
  {
   "cell_type": "code",
   "execution_count": 60,
   "id": "ed7bc774-656a-4dca-adb8-3f1487894e84",
   "metadata": {},
   "outputs": [
    {
     "name": "stdout",
     "output_type": "stream",
     "text": [
      "[[[[[[[[[[[[[[[[[[[[[[[[[[[[[[[[1 2 3 4 5]]]]]]]]]]]]]]]]]]]]]]]]]]]]]]]]\n"
     ]
    }
   ],
   "source": [
    "arr = np.array([1,2,3,4,5],ndmin=32)\n",
    "print (arr)"
   ]
  },
  {
   "cell_type": "code",
   "execution_count": 72,
   "id": "39021d83-9a7d-4d73-87ed-7cdf07bac9fe",
   "metadata": {},
   "outputs": [
    {
     "name": "stdout",
     "output_type": "stream",
     "text": [
      "[[1 2 3]\n",
      " [4 5 6]\n",
      " [7 8 9]]\n",
      "5\n",
      "[4 5 6]\n",
      "[3 6 9]\n",
      "[[False False False]\n",
      " [False False  True]\n",
      " [ True  True  True]]\n"
     ]
    }
   ],
   "source": [
    "arr = np.array([[1,2,3],[4,5,6],[7,8,9]])\n",
    "element = arr[1,1]\n",
    "slice_row = arr[1,:]\n",
    "slice_column = arr[:,2]\n",
    "mask = arr > 5\n",
    "print(arr)\n",
    "print(element)\n",
    "print(slice_row)\n",
    "print(slice_column)\n",
    "print (mask)"
   ]
  },
  {
   "cell_type": "code",
   "execution_count": 1,
   "id": "98981bc9-1cc0-44a6-b5d0-cdad170a0313",
   "metadata": {},
   "outputs": [
    {
     "name": "stdout",
     "output_type": "stream",
     "text": [
      "Requirement already satisfied: pandas in c:\\users\\hp\\anaconda3\\lib\\site-packages (2.2.2)\n",
      "Requirement already satisfied: numpy>=1.26.0 in c:\\users\\hp\\anaconda3\\lib\\site-packages (from pandas) (1.26.4)\n",
      "Requirement already satisfied: python-dateutil>=2.8.2 in c:\\users\\hp\\anaconda3\\lib\\site-packages (from pandas) (2.9.0.post0)\n",
      "Requirement already satisfied: pytz>=2020.1 in c:\\users\\hp\\anaconda3\\lib\\site-packages (from pandas) (2024.1)\n",
      "Requirement already satisfied: tzdata>=2022.7 in c:\\users\\hp\\anaconda3\\lib\\site-packages (from pandas) (2023.3)\n",
      "Requirement already satisfied: six>=1.5 in c:\\users\\hp\\anaconda3\\lib\\site-packages (from python-dateutil>=2.8.2->pandas) (1.16.0)\n",
      "Note: you may need to restart the kernel to use updated packages.\n"
     ]
    }
   ],
   "source": [
    "pip install pandas"
   ]
  },
  {
   "cell_type": "code",
   "execution_count": 4,
   "id": "a3805f32-7362-453e-a3aa-6a4b5498ed9f",
   "metadata": {},
   "outputs": [],
   "source": [
    "import pandas as pd"
   ]
  },
  {
   "cell_type": "code",
   "execution_count": 7,
   "id": "854b8044-1fb7-4f79-ab06-238e159003a7",
   "metadata": {},
   "outputs": [],
   "source": [
    "data = [10,20,30,40,50]\n",
    "series_from_list = pd.Series(data)"
   ]
  },
  {
   "cell_type": "code",
   "execution_count": 13,
   "id": "3f750827-9b53-456b-be3d-066c47d9eaf6",
   "metadata": {},
   "outputs": [
    {
     "name": "stdout",
     "output_type": "stream",
     "text": [
      "0    1\n",
      "1    2\n",
      "2    3\n",
      "3    4\n",
      "4    5\n",
      "dtype: int32\n"
     ]
    }
   ],
   "source": [
    "import numpy as np\n",
    "numpy_arr = np.array([1,2,3,4,5])\n",
    "ser_numpy = pd.Series(numpy_arr)\n",
    "print(ser_numpy)"
   ]
  },
  {
   "cell_type": "code",
   "execution_count": 19,
   "id": "6742ad88-1d06-4bd0-ad4b-9c073d94dc21",
   "metadata": {},
   "outputs": [
    {
     "name": "stdout",
     "output_type": "stream",
     "text": [
      "  name  age gender\n",
      "0  sam   24      M\n",
      "1  jam   45      F\n",
      "2  bam   34      M\n"
     ]
    }
   ],
   "source": [
    "data = {'name': ['sam','jam','bam'],\n",
    "        'age': [24,45,34],\n",
    "        'gender': ['M','F','M']}\n",
    "df_list = pd.DataFrame(data)\n",
    "print(df_list)"
   ]
  },
  {
   "cell_type": "code",
   "execution_count": 23,
   "id": "9dec3612-c03f-4a36-8860-40371c0fe66e",
   "metadata": {},
   "outputs": [
    {
     "name": "stdout",
     "output_type": "stream",
     "text": [
      "  name  age\n",
      "0  sam   34\n",
      "1  jam   45\n",
      "2  bam   64\n"
     ]
    }
   ],
   "source": [
    "data_lst = [['sam',34],['jam',45],['bam',64]]\n",
    "df_lst = pd.DataFrame(data_lst,columns=['name','age'])\n",
    "print(df_lst)"
   ]
  },
  {
   "cell_type": "code",
   "execution_count": 52,
   "id": "571152c0-0b8e-4d59-9be5-c83c976ce53c",
   "metadata": {},
   "outputs": [
    {
     "ename": "AttributeError",
     "evalue": "module 'pandas' has no attribute 'read_PIL'",
     "output_type": "error",
     "traceback": [
      "\u001b[1;31m---------------------------------------------------------------------------\u001b[0m",
      "\u001b[1;31mAttributeError\u001b[0m                            Traceback (most recent call last)",
      "Cell \u001b[1;32mIn[52], line 1\u001b[0m\n\u001b[1;32m----> 1\u001b[0m df_csv \u001b[38;5;241m=\u001b[39m pd\u001b[38;5;241m.\u001b[39mread_PIL(\u001b[38;5;124mr\u001b[39m\u001b[38;5;124m'\u001b[39m\u001b[38;5;124mC:\u001b[39m\u001b[38;5;124m\\\u001b[39m\u001b[38;5;124mNEUROBYTE\u001b[39m\u001b[38;5;124m\\\u001b[39m\u001b[38;5;124mData Scinece\u001b[39m\u001b[38;5;124m\\\u001b[39m\u001b[38;5;124mPractice\u001b[39m\u001b[38;5;124m\\\u001b[39m\u001b[38;5;124mPOWER BI.jpg\u001b[39m\u001b[38;5;124m'\u001b[39m)\n",
      "\u001b[1;31mAttributeError\u001b[0m: module 'pandas' has no attribute 'read_PIL'"
     ]
    }
   ],
   "source": [
    "df_csv = pd.read_PIL(r'C:\\NEUROBYTE\\Data Scinece\\Practice\\POWER BI.jpg')"
   ]
  },
  {
   "cell_type": "code",
   "execution_count": 43,
   "id": "1ac8dcec-54b8-4117-a281-907f58b0b83a",
   "metadata": {},
   "outputs": [
    {
     "name": "stdout",
     "output_type": "stream",
     "text": [
      "    invoice_no  gender  age    category  quantity    price payment_method  \\\n",
      "0      I138884  Female   28    Clothing         5  1500.40    Credit Card   \n",
      "1      I317333    Male   21       Shoes         3  1800.51     Debit Card   \n",
      "2      I127801    Male   20    Clothing         1   300.08           Cash   \n",
      "3      I173702  Female   66       Shoes         5  3000.85    Credit Card   \n",
      "4      I337046  Female   53       Books         4    60.60           Cash   \n",
      "..         ...     ...  ...         ...       ...      ...            ...   \n",
      "195    I220863    Male   21       Books         4    60.60           Cash   \n",
      "196    I530401  Female   32  Technology         2  2100.00           Cash   \n",
      "197    I219555    Male   47    Clothing         3   900.24    Credit Card   \n",
      "198    I316629  Female   41    Souvenir         3    35.19           Cash   \n",
      "199    I795251    Male   33   Cosmetics         5   203.30           Cash   \n",
      "\n",
      "    invoice_date     shopping_mall  Unnamed: 9 Unnamed: 10  Unnamed: 11  \n",
      "0     2022-08-05            Kanyon         NaN         SUM      3300.91  \n",
      "1     2021-12-12    Forum Istanbul         NaN       SUMIF      9302.56  \n",
      "2     2021-11-09         Metrocity         NaN         NaN      1011.96  \n",
      "3     2021-05-16      Metropol AVM         NaN       COUNT        28.00  \n",
      "4     2021-10-24            Kanyon         NaN     COUNTIF         4.00  \n",
      "..           ...               ...         ...         ...          ...  \n",
      "195   2021-07-22  Mall of Istanbul         NaN         NaN          NaN  \n",
      "196   2022-09-25      Zorlu Center         NaN         NaN          NaN  \n",
      "197   2021-09-10         Metrocity         NaN         NaN          NaN  \n",
      "198   2022-01-16       Cevahir AVM         NaN         NaN          NaN  \n",
      "199   2022-11-13            Kanyon         NaN         NaN          NaN  \n",
      "\n",
      "[200 rows x 12 columns]\n"
     ]
    }
   ],
   "source": [
    "print(df_csv)"
   ]
  },
  {
   "cell_type": "code",
   "execution_count": 47,
   "id": "05bcbcc9-ad95-45f0-b423-09cf84fc6fa5",
   "metadata": {},
   "outputs": [
    {
     "data": {
      "text/html": [
       "<div>\n",
       "<style scoped>\n",
       "    .dataframe tbody tr th:only-of-type {\n",
       "        vertical-align: middle;\n",
       "    }\n",
       "\n",
       "    .dataframe tbody tr th {\n",
       "        vertical-align: top;\n",
       "    }\n",
       "\n",
       "    .dataframe thead th {\n",
       "        text-align: right;\n",
       "    }\n",
       "</style>\n",
       "<table border=\"1\" class=\"dataframe\">\n",
       "  <thead>\n",
       "    <tr style=\"text-align: right;\">\n",
       "      <th></th>\n",
       "      <th>invoice_no</th>\n",
       "      <th>gender</th>\n",
       "      <th>age</th>\n",
       "      <th>category</th>\n",
       "      <th>quantity</th>\n",
       "      <th>price</th>\n",
       "      <th>payment_method</th>\n",
       "      <th>invoice_date</th>\n",
       "      <th>shopping_mall</th>\n",
       "      <th>Unnamed: 9</th>\n",
       "      <th>Unnamed: 10</th>\n",
       "      <th>Unnamed: 11</th>\n",
       "    </tr>\n",
       "  </thead>\n",
       "  <tbody>\n",
       "    <tr>\n",
       "      <th>0</th>\n",
       "      <td>I138884</td>\n",
       "      <td>Female</td>\n",
       "      <td>28</td>\n",
       "      <td>Clothing</td>\n",
       "      <td>5</td>\n",
       "      <td>1500.40</td>\n",
       "      <td>Credit Card</td>\n",
       "      <td>2022-08-05</td>\n",
       "      <td>Kanyon</td>\n",
       "      <td>NaN</td>\n",
       "      <td>SUM</td>\n",
       "      <td>3300.910000</td>\n",
       "    </tr>\n",
       "    <tr>\n",
       "      <th>1</th>\n",
       "      <td>I317333</td>\n",
       "      <td>Male</td>\n",
       "      <td>21</td>\n",
       "      <td>Shoes</td>\n",
       "      <td>3</td>\n",
       "      <td>1800.51</td>\n",
       "      <td>Debit Card</td>\n",
       "      <td>2021-12-12</td>\n",
       "      <td>Forum Istanbul</td>\n",
       "      <td>NaN</td>\n",
       "      <td>SUMIF</td>\n",
       "      <td>9302.560000</td>\n",
       "    </tr>\n",
       "    <tr>\n",
       "      <th>2</th>\n",
       "      <td>I127801</td>\n",
       "      <td>Male</td>\n",
       "      <td>20</td>\n",
       "      <td>Clothing</td>\n",
       "      <td>1</td>\n",
       "      <td>300.08</td>\n",
       "      <td>Cash</td>\n",
       "      <td>2021-11-09</td>\n",
       "      <td>Metrocity</td>\n",
       "      <td>NaN</td>\n",
       "      <td>NaN</td>\n",
       "      <td>1011.960000</td>\n",
       "    </tr>\n",
       "    <tr>\n",
       "      <th>3</th>\n",
       "      <td>I173702</td>\n",
       "      <td>Female</td>\n",
       "      <td>66</td>\n",
       "      <td>Shoes</td>\n",
       "      <td>5</td>\n",
       "      <td>3000.85</td>\n",
       "      <td>Credit Card</td>\n",
       "      <td>2021-05-16</td>\n",
       "      <td>Metropol AVM</td>\n",
       "      <td>NaN</td>\n",
       "      <td>COUNT</td>\n",
       "      <td>28.000000</td>\n",
       "    </tr>\n",
       "    <tr>\n",
       "      <th>4</th>\n",
       "      <td>I337046</td>\n",
       "      <td>Female</td>\n",
       "      <td>53</td>\n",
       "      <td>Books</td>\n",
       "      <td>4</td>\n",
       "      <td>60.60</td>\n",
       "      <td>Cash</td>\n",
       "      <td>2021-10-24</td>\n",
       "      <td>Kanyon</td>\n",
       "      <td>NaN</td>\n",
       "      <td>COUNTIF</td>\n",
       "      <td>4.000000</td>\n",
       "    </tr>\n",
       "    <tr>\n",
       "      <th>5</th>\n",
       "      <td>I227836</td>\n",
       "      <td>Female</td>\n",
       "      <td>28</td>\n",
       "      <td>Clothing</td>\n",
       "      <td>5</td>\n",
       "      <td>1500.40</td>\n",
       "      <td>Credit Card</td>\n",
       "      <td>2022-05-24</td>\n",
       "      <td>Forum Istanbul</td>\n",
       "      <td>NaN</td>\n",
       "      <td>NaN</td>\n",
       "      <td>4.000000</td>\n",
       "    </tr>\n",
       "    <tr>\n",
       "      <th>6</th>\n",
       "      <td>I121056</td>\n",
       "      <td>Female</td>\n",
       "      <td>49</td>\n",
       "      <td>Cosmetics</td>\n",
       "      <td>1</td>\n",
       "      <td>40.66</td>\n",
       "      <td>Cash</td>\n",
       "      <td>2022-03-13</td>\n",
       "      <td>Istinye Park</td>\n",
       "      <td>NaN</td>\n",
       "      <td>AVERAGE</td>\n",
       "      <td>806.334211</td>\n",
       "    </tr>\n",
       "    <tr>\n",
       "      <th>7</th>\n",
       "      <td>I293112</td>\n",
       "      <td>Female</td>\n",
       "      <td>32</td>\n",
       "      <td>Clothing</td>\n",
       "      <td>2</td>\n",
       "      <td>600.16</td>\n",
       "      <td>Credit Card</td>\n",
       "      <td>2021-01-13</td>\n",
       "      <td>Mall of Istanbul</td>\n",
       "      <td>NaN</td>\n",
       "      <td>NaN</td>\n",
       "      <td>NaN</td>\n",
       "    </tr>\n",
       "    <tr>\n",
       "      <th>8</th>\n",
       "      <td>I293455</td>\n",
       "      <td>Male</td>\n",
       "      <td>69</td>\n",
       "      <td>Clothing</td>\n",
       "      <td>3</td>\n",
       "      <td>900.24</td>\n",
       "      <td>Credit Card</td>\n",
       "      <td>2021-11-04</td>\n",
       "      <td>Metrocity</td>\n",
       "      <td>NaN</td>\n",
       "      <td>NaN</td>\n",
       "      <td>NaN</td>\n",
       "    </tr>\n",
       "    <tr>\n",
       "      <th>9</th>\n",
       "      <td>I326945</td>\n",
       "      <td>Female</td>\n",
       "      <td>60</td>\n",
       "      <td>Clothing</td>\n",
       "      <td>2</td>\n",
       "      <td>600.16</td>\n",
       "      <td>Credit Card</td>\n",
       "      <td>2021-08-22</td>\n",
       "      <td>Kanyon</td>\n",
       "      <td>NaN</td>\n",
       "      <td>NaN</td>\n",
       "      <td>NaN</td>\n",
       "    </tr>\n",
       "  </tbody>\n",
       "</table>\n",
       "</div>"
      ],
      "text/plain": [
       "  invoice_no  gender  age   category  quantity    price payment_method  \\\n",
       "0    I138884  Female   28   Clothing         5  1500.40    Credit Card   \n",
       "1    I317333    Male   21      Shoes         3  1800.51     Debit Card   \n",
       "2    I127801    Male   20   Clothing         1   300.08           Cash   \n",
       "3    I173702  Female   66      Shoes         5  3000.85    Credit Card   \n",
       "4    I337046  Female   53      Books         4    60.60           Cash   \n",
       "5    I227836  Female   28   Clothing         5  1500.40    Credit Card   \n",
       "6    I121056  Female   49  Cosmetics         1    40.66           Cash   \n",
       "7    I293112  Female   32   Clothing         2   600.16    Credit Card   \n",
       "8    I293455    Male   69   Clothing         3   900.24    Credit Card   \n",
       "9    I326945  Female   60   Clothing         2   600.16    Credit Card   \n",
       "\n",
       "  invoice_date     shopping_mall  Unnamed: 9 Unnamed: 10  Unnamed: 11  \n",
       "0   2022-08-05            Kanyon         NaN         SUM  3300.910000  \n",
       "1   2021-12-12    Forum Istanbul         NaN       SUMIF  9302.560000  \n",
       "2   2021-11-09         Metrocity         NaN         NaN  1011.960000  \n",
       "3   2021-05-16      Metropol AVM         NaN       COUNT    28.000000  \n",
       "4   2021-10-24            Kanyon         NaN     COUNTIF     4.000000  \n",
       "5   2022-05-24    Forum Istanbul         NaN         NaN     4.000000  \n",
       "6   2022-03-13      Istinye Park         NaN     AVERAGE   806.334211  \n",
       "7   2021-01-13  Mall of Istanbul         NaN         NaN          NaN  \n",
       "8   2021-11-04         Metrocity         NaN         NaN          NaN  \n",
       "9   2021-08-22            Kanyon         NaN         NaN          NaN  "
      ]
     },
     "execution_count": 47,
     "metadata": {},
     "output_type": "execute_result"
    }
   ],
   "source": [
    "df_csv.head(10)"
   ]
  },
  {
   "cell_type": "code",
   "execution_count": null,
   "id": "d6e2cab1-2bfe-42db-ba57-033beb117409",
   "metadata": {},
   "outputs": [],
   "source": []
  }
 ],
 "metadata": {
  "kernelspec": {
   "display_name": "Python [conda env:base] *",
   "language": "python",
   "name": "conda-base-py"
  },
  "language_info": {
   "codemirror_mode": {
    "name": "ipython",
    "version": 3
   },
   "file_extension": ".py",
   "mimetype": "text/x-python",
   "name": "python",
   "nbconvert_exporter": "python",
   "pygments_lexer": "ipython3",
   "version": "3.12.7"
  }
 },
 "nbformat": 4,
 "nbformat_minor": 5
}
