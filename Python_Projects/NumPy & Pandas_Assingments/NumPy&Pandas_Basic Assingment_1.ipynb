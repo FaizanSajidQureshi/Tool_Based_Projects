{
 "cells": [
  {
   "cell_type": "code",
   "execution_count": 42,
   "id": "f49393a8-c85c-405b-a5b4-8098ddec78b8",
   "metadata": {},
   "outputs": [
    {
     "name": "stdout",
     "output_type": "stream",
     "text": [
      "Requirement already satisfied: numpy in c:\\users\\hp\\anaconda3\\lib\\site-packages (1.26.4)\n",
      "Note: you may need to restart the kernel to use updated packages.\n"
     ]
    }
   ],
   "source": [
    "pip install numpy"
   ]
  },
  {
   "cell_type": "code",
   "execution_count": 88,
   "id": "4b639ac8-480c-48a3-960a-8f98c31648d8",
   "metadata": {},
   "outputs": [
    {
     "name": "stdout",
     "output_type": "stream",
     "text": [
      "Requirement already satisfied: matplotlib in c:\\users\\hp\\anaconda3\\lib\\site-packages (3.9.2)\n",
      "Requirement already satisfied: contourpy>=1.0.1 in c:\\users\\hp\\anaconda3\\lib\\site-packages (from matplotlib) (1.2.0)\n",
      "Requirement already satisfied: cycler>=0.10 in c:\\users\\hp\\anaconda3\\lib\\site-packages (from matplotlib) (0.11.0)\n",
      "Requirement already satisfied: fonttools>=4.22.0 in c:\\users\\hp\\anaconda3\\lib\\site-packages (from matplotlib) (4.51.0)\n",
      "Requirement already satisfied: kiwisolver>=1.3.1 in c:\\users\\hp\\anaconda3\\lib\\site-packages (from matplotlib) (1.4.4)\n",
      "Requirement already satisfied: numpy>=1.23 in c:\\users\\hp\\anaconda3\\lib\\site-packages (from matplotlib) (1.26.4)\n",
      "Requirement already satisfied: packaging>=20.0 in c:\\users\\hp\\anaconda3\\lib\\site-packages (from matplotlib) (24.1)\n",
      "Requirement already satisfied: pillow>=8 in c:\\users\\hp\\anaconda3\\lib\\site-packages (from matplotlib) (10.4.0)\n",
      "Requirement already satisfied: pyparsing>=2.3.1 in c:\\users\\hp\\anaconda3\\lib\\site-packages (from matplotlib) (3.1.2)\n",
      "Requirement already satisfied: python-dateutil>=2.7 in c:\\users\\hp\\anaconda3\\lib\\site-packages (from matplotlib) (2.9.0.post0)\n",
      "Requirement already satisfied: six>=1.5 in c:\\users\\hp\\anaconda3\\lib\\site-packages (from python-dateutil>=2.7->matplotlib) (1.16.0)\n",
      "Note: you may need to restart the kernel to use updated packages.\n"
     ]
    }
   ],
   "source": [
    "pip install matplotlib"
   ]
  },
  {
   "cell_type": "code",
   "execution_count": 43,
   "id": "04b00ad0-33df-4b17-a7cb-63c8a76904ac",
   "metadata": {},
   "outputs": [],
   "source": [
    "import numpy as np\n",
    "arr = np.array([1,2,3,4,5])"
   ]
  },
  {
   "cell_type": "code",
   "execution_count": 44,
   "id": "466acbc2-1544-4577-bcf2-d90e3571a1ac",
   "metadata": {},
   "outputs": [
    {
     "name": "stdout",
     "output_type": "stream",
     "text": [
      "[[0. 0. 0.]\n",
      " [0. 0. 0.]\n",
      " [0. 0. 0.]]\n",
      "[[1. 1.]\n",
      " [1. 1.]]\n"
     ]
    }
   ],
   "source": [
    "zeros_arr = np.zeros((3,3))\n",
    "ones_arr = np.ones((2,2))\n",
    "print (zeros_arr)\n",
    "print (ones_arr)"
   ]
  },
  {
   "cell_type": "code",
   "execution_count": 45,
   "id": "04b4902b-f981-4dfc-bc57-fa2452790afb",
   "metadata": {},
   "outputs": [
    {
     "name": "stdout",
     "output_type": "stream",
     "text": [
      "[10 15 20 25 30 35 40 45 50 55 60 65 70 75 80 85 90 95]\n"
     ]
    }
   ],
   "source": [
    "arr = np.arange(10,100,5)\n",
    "print (arr)"
   ]
  },
  {
   "cell_type": "code",
   "execution_count": 46,
   "id": "26b5675f-5810-48f7-8e71-0578c73477be",
   "metadata": {},
   "outputs": [
    {
     "name": "stdout",
     "output_type": "stream",
     "text": [
      "[ 10.   32.5  55.   77.5 100. ]\n"
     ]
    }
   ],
   "source": [
    "lin_arr = np.linspace(10,100,5)\n",
    "print (lin_arr)"
   ]
  },
  {
   "cell_type": "code",
   "execution_count": 47,
   "id": "cc79a887-ffaa-4afd-9c5a-f4cef8ea435b",
   "metadata": {},
   "outputs": [
    {
     "data": {
      "text/plain": [
       "array([3., 7., 2., 8., 4.])"
      ]
     },
     "execution_count": 47,
     "metadata": {},
     "output_type": "execute_result"
    }
   ],
   "source": [
    "rand_arr = np.random.uniform(1,10,5)\n",
    "np.round(rand_arr)"
   ]
  },
  {
   "cell_type": "code",
   "execution_count": 48,
   "id": "ed7bc774-656a-4dca-adb8-3f1487894e84",
   "metadata": {},
   "outputs": [
    {
     "name": "stdout",
     "output_type": "stream",
     "text": [
      "[[[[[[[[[[[[[[[[[[[[[[[[[[[[[[[[1 2 3 4 5]]]]]]]]]]]]]]]]]]]]]]]]]]]]]]]]\n"
     ]
    }
   ],
   "source": [
    "arr = np.array([1,2,3,4,5],ndmin=32)\n",
    "print (arr)"
   ]
  },
  {
   "cell_type": "code",
   "execution_count": 49,
   "id": "39021d83-9a7d-4d73-87ed-7cdf07bac9fe",
   "metadata": {},
   "outputs": [
    {
     "name": "stdout",
     "output_type": "stream",
     "text": [
      "[[1 2 3]\n",
      " [4 5 6]\n",
      " [7 8 9]]\n",
      "5\n",
      "[4 5 6]\n",
      "[3 6 9]\n",
      "[[False False False]\n",
      " [False False  True]\n",
      " [ True  True  True]]\n"
     ]
    }
   ],
   "source": [
    "arr = np.array([[1,2,3],[4,5,6],[7,8,9]])\n",
    "element = arr[1,1]\n",
    "slice_row = arr[1,:]\n",
    "slice_column = arr[:,2]\n",
    "mask = arr > 5\n",
    "print(arr)\n",
    "print(element)\n",
    "print(slice_row)\n",
    "print(slice_column)\n",
    "print (mask)"
   ]
  },
  {
   "cell_type": "code",
   "execution_count": 50,
   "id": "98981bc9-1cc0-44a6-b5d0-cdad170a0313",
   "metadata": {},
   "outputs": [
    {
     "name": "stdout",
     "output_type": "stream",
     "text": [
      "Requirement already satisfied: pandas in c:\\users\\hp\\anaconda3\\lib\\site-packages (2.2.2)\n",
      "Requirement already satisfied: numpy>=1.26.0 in c:\\users\\hp\\anaconda3\\lib\\site-packages (from pandas) (1.26.4)\n",
      "Requirement already satisfied: python-dateutil>=2.8.2 in c:\\users\\hp\\anaconda3\\lib\\site-packages (from pandas) (2.9.0.post0)\n",
      "Requirement already satisfied: pytz>=2020.1 in c:\\users\\hp\\anaconda3\\lib\\site-packages (from pandas) (2024.1)\n",
      "Requirement already satisfied: tzdata>=2022.7 in c:\\users\\hp\\anaconda3\\lib\\site-packages (from pandas) (2023.3)\n",
      "Requirement already satisfied: six>=1.5 in c:\\users\\hp\\anaconda3\\lib\\site-packages (from python-dateutil>=2.8.2->pandas) (1.16.0)\n",
      "Note: you may need to restart the kernel to use updated packages.\n"
     ]
    }
   ],
   "source": [
    "pip install pandas"
   ]
  },
  {
   "cell_type": "code",
   "execution_count": 51,
   "id": "a3805f32-7362-453e-a3aa-6a4b5498ed9f",
   "metadata": {},
   "outputs": [],
   "source": [
    "import pandas as pd"
   ]
  },
  {
   "cell_type": "code",
   "execution_count": 52,
   "id": "854b8044-1fb7-4f79-ab06-238e159003a7",
   "metadata": {},
   "outputs": [],
   "source": [
    "data = [10,20,30,40,50]\n",
    "series_from_list = pd.Series(data)"
   ]
  },
  {
   "cell_type": "code",
   "execution_count": 53,
   "id": "3f750827-9b53-456b-be3d-066c47d9eaf6",
   "metadata": {},
   "outputs": [
    {
     "name": "stdout",
     "output_type": "stream",
     "text": [
      "0    1\n",
      "1    2\n",
      "2    3\n",
      "3    4\n",
      "4    5\n",
      "dtype: int32\n"
     ]
    }
   ],
   "source": [
    "import numpy as np\n",
    "numpy_arr = np.array([1,2,3,4,5])\n",
    "ser_numpy = pd.Series(numpy_arr)\n",
    "print(ser_numpy)"
   ]
  },
  {
   "cell_type": "code",
   "execution_count": 54,
   "id": "6742ad88-1d06-4bd0-ad4b-9c073d94dc21",
   "metadata": {},
   "outputs": [
    {
     "name": "stdout",
     "output_type": "stream",
     "text": [
      "  name  age gender\n",
      "0  sam   24      M\n",
      "1  jam   45      F\n",
      "2  bam   34      M\n"
     ]
    }
   ],
   "source": [
    "data = {'name': ['sam','jam','bam'],\n",
    "        'age': [24,45,34],\n",
    "        'gender': ['M','F','M']}\n",
    "df_list = pd.DataFrame(data)\n",
    "print(df_list)"
   ]
  },
  {
   "cell_type": "code",
   "execution_count": 55,
   "id": "9dec3612-c03f-4a36-8860-40371c0fe66e",
   "metadata": {},
   "outputs": [
    {
     "name": "stdout",
     "output_type": "stream",
     "text": [
      "  name  age\n",
      "0  sam   34\n",
      "1  jam   45\n",
      "2  bam   64\n"
     ]
    }
   ],
   "source": [
    "data_lst = [['sam',34],['jam',45],['bam',64]]\n",
    "df_lst = pd.DataFrame(data_lst,columns=['name','age'])\n",
    "print(df_lst)"
   ]
  },
  {
   "cell_type": "code",
   "execution_count": 129,
   "id": "571152c0-0b8e-4d59-9be5-c83c976ce53c",
   "metadata": {},
   "outputs": [],
   "source": [
    "df_csv = pd.read_excel(r'C:\\NEUROBYTE\\Data Scinece\\BIA\\EXCEL\\EXCEL ADVANCE\\Hospitality.xlsx')"
   ]
  },
  {
   "cell_type": "code",
   "execution_count": 133,
   "id": "1ac8dcec-54b8-4117-a281-907f58b0b83a",
   "metadata": {},
   "outputs": [
    {
     "name": "stdout",
     "output_type": "stream",
     "text": [
      "       Avg Room Rate     reservation_id        check_in_date  stay_duration  \\\n",
      "0              71.10  779087-Y5-9824-SA            4/15/2020             13   \n",
      "1              71.10  984023-QO-5015-YG  2020-12-06 00:00:00              3   \n",
      "2             172.38  518066-UQ-2315-FK            2/25/2020             11   \n",
      "3             172.38  130339-H9-2116-KE            9/15/2020             11   \n",
      "4             199.00  961051-40-0956-EO  2020-05-01 00:00:00             14   \n",
      "...              ...                ...                  ...            ...   \n",
      "49995         177.45  248063-7J-6726-SQ  2020-06-06 00:00:00              6   \n",
      "49996         100.98  988239-X6-3251-XO  2020-09-02 00:00:00             12   \n",
      "49997         208.95  644180-N3-2350-ZJ  2020-08-06 00:00:00              2   \n",
      "49998         202.98  866690-J9-9283-PA            5/17/2020              3   \n",
      "49999          80.58  074193-UW-0434-ZV            6/19/2020             11   \n",
      "\n",
      "       adults  children room_type special_requests_flag booking_channel  \\\n",
      "0           3         4    Single                   Yes     Call Center   \n",
      "1           3         3    Single                    No    Travel Agent   \n",
      "2           4         2     Queen                    No     Call Center   \n",
      "3           4         1     Queen                    No         Website   \n",
      "4           2         4    Double                   Yes         Walk-in   \n",
      "...       ...       ...       ...                   ...             ...   \n",
      "49995       1         4      King                   Yes     Call Center   \n",
      "49996       1         2     Queen                    No         Website   \n",
      "49997       3         1      King                    No       Phone App   \n",
      "49998       2         2     Queen                    No       Phone App   \n",
      "49999       3         1     Queen                    No     Call Center   \n",
      "\n",
      "      reservation_status advanced_booking    Property                 Date  \\\n",
      "0              Completed              Yes   The Chord            4/15/2020   \n",
      "1              Completed              Yes   The Chord  2020-12-06 00:00:00   \n",
      "2              Completed              Yes  The Sankey            2/25/2020   \n",
      "3                No-Show              Yes  The Sankey            9/15/2020   \n",
      "4              Completed               No  The Sankey  2020-05-01 00:00:00   \n",
      "...                  ...              ...         ...                  ...   \n",
      "49995          Completed               No  The Sankey  2020-06-06 00:00:00   \n",
      "49996          Completed               No   The Chord  2020-09-02 00:00:00   \n",
      "49997          Completed              Yes  The Sankey  2020-08-06 00:00:00   \n",
      "49998          Completed              Yes  The Sankey            5/17/2020   \n",
      "49999            No-Show              Yes   The Chord            6/19/2020   \n",
      "\n",
      "      Rate Type  \n",
      "0       Weekday  \n",
      "1       Weekday  \n",
      "2       Weekday  \n",
      "3       Weekday  \n",
      "4       Weekend  \n",
      "...         ...  \n",
      "49995   Weekday  \n",
      "49996   Weekend  \n",
      "49997   Weekend  \n",
      "49998   Weekend  \n",
      "49999   Weekday  \n",
      "\n",
      "[50000 rows x 14 columns]\n"
     ]
    }
   ],
   "source": [
    "print(df_csv)"
   ]
  },
  {
   "cell_type": "code",
   "execution_count": 132,
   "id": "05bcbcc9-ad95-45f0-b423-09cf84fc6fa5",
   "metadata": {},
   "outputs": [
    {
     "data": {
      "text/html": [
       "<div>\n",
       "<style scoped>\n",
       "    .dataframe tbody tr th:only-of-type {\n",
       "        vertical-align: middle;\n",
       "    }\n",
       "\n",
       "    .dataframe tbody tr th {\n",
       "        vertical-align: top;\n",
       "    }\n",
       "\n",
       "    .dataframe thead th {\n",
       "        text-align: right;\n",
       "    }\n",
       "</style>\n",
       "<table border=\"1\" class=\"dataframe\">\n",
       "  <thead>\n",
       "    <tr style=\"text-align: right;\">\n",
       "      <th></th>\n",
       "      <th>Avg Room Rate</th>\n",
       "      <th>reservation_id</th>\n",
       "      <th>check_in_date</th>\n",
       "      <th>stay_duration</th>\n",
       "      <th>adults</th>\n",
       "      <th>children</th>\n",
       "      <th>room_type</th>\n",
       "      <th>special_requests_flag</th>\n",
       "      <th>booking_channel</th>\n",
       "      <th>reservation_status</th>\n",
       "      <th>advanced_booking</th>\n",
       "      <th>Property</th>\n",
       "      <th>Date</th>\n",
       "      <th>Rate Type</th>\n",
       "    </tr>\n",
       "  </thead>\n",
       "  <tbody>\n",
       "    <tr>\n",
       "      <th>0</th>\n",
       "      <td>71.10</td>\n",
       "      <td>779087-Y5-9824-SA</td>\n",
       "      <td>4/15/2020</td>\n",
       "      <td>13</td>\n",
       "      <td>3</td>\n",
       "      <td>4</td>\n",
       "      <td>Single</td>\n",
       "      <td>Yes</td>\n",
       "      <td>Call Center</td>\n",
       "      <td>Completed</td>\n",
       "      <td>Yes</td>\n",
       "      <td>The Chord</td>\n",
       "      <td>4/15/2020</td>\n",
       "      <td>Weekday</td>\n",
       "    </tr>\n",
       "    <tr>\n",
       "      <th>1</th>\n",
       "      <td>71.10</td>\n",
       "      <td>984023-QO-5015-YG</td>\n",
       "      <td>2020-12-06 00:00:00</td>\n",
       "      <td>3</td>\n",
       "      <td>3</td>\n",
       "      <td>3</td>\n",
       "      <td>Single</td>\n",
       "      <td>No</td>\n",
       "      <td>Travel Agent</td>\n",
       "      <td>Completed</td>\n",
       "      <td>Yes</td>\n",
       "      <td>The Chord</td>\n",
       "      <td>2020-12-06 00:00:00</td>\n",
       "      <td>Weekday</td>\n",
       "    </tr>\n",
       "    <tr>\n",
       "      <th>2</th>\n",
       "      <td>172.38</td>\n",
       "      <td>518066-UQ-2315-FK</td>\n",
       "      <td>2/25/2020</td>\n",
       "      <td>11</td>\n",
       "      <td>4</td>\n",
       "      <td>2</td>\n",
       "      <td>Queen</td>\n",
       "      <td>No</td>\n",
       "      <td>Call Center</td>\n",
       "      <td>Completed</td>\n",
       "      <td>Yes</td>\n",
       "      <td>The Sankey</td>\n",
       "      <td>2/25/2020</td>\n",
       "      <td>Weekday</td>\n",
       "    </tr>\n",
       "    <tr>\n",
       "      <th>3</th>\n",
       "      <td>172.38</td>\n",
       "      <td>130339-H9-2116-KE</td>\n",
       "      <td>9/15/2020</td>\n",
       "      <td>11</td>\n",
       "      <td>4</td>\n",
       "      <td>1</td>\n",
       "      <td>Queen</td>\n",
       "      <td>No</td>\n",
       "      <td>Website</td>\n",
       "      <td>No-Show</td>\n",
       "      <td>Yes</td>\n",
       "      <td>The Sankey</td>\n",
       "      <td>9/15/2020</td>\n",
       "      <td>Weekday</td>\n",
       "    </tr>\n",
       "    <tr>\n",
       "      <th>4</th>\n",
       "      <td>199.00</td>\n",
       "      <td>961051-40-0956-EO</td>\n",
       "      <td>2020-05-01 00:00:00</td>\n",
       "      <td>14</td>\n",
       "      <td>2</td>\n",
       "      <td>4</td>\n",
       "      <td>Double</td>\n",
       "      <td>Yes</td>\n",
       "      <td>Walk-in</td>\n",
       "      <td>Completed</td>\n",
       "      <td>No</td>\n",
       "      <td>The Sankey</td>\n",
       "      <td>2020-05-01 00:00:00</td>\n",
       "      <td>Weekend</td>\n",
       "    </tr>\n",
       "    <tr>\n",
       "      <th>5</th>\n",
       "      <td>177.45</td>\n",
       "      <td>885684-T0-2055-IO</td>\n",
       "      <td>2020-07-07 00:00:00</td>\n",
       "      <td>10</td>\n",
       "      <td>3</td>\n",
       "      <td>3</td>\n",
       "      <td>King</td>\n",
       "      <td>No</td>\n",
       "      <td>Website</td>\n",
       "      <td>Completed</td>\n",
       "      <td>Yes</td>\n",
       "      <td>The Sankey</td>\n",
       "      <td>2020-07-07 00:00:00</td>\n",
       "      <td>Weekday</td>\n",
       "    </tr>\n",
       "    <tr>\n",
       "      <th>6</th>\n",
       "      <td>98.10</td>\n",
       "      <td>050756-9V-7369-IN</td>\n",
       "      <td>5/26/2020</td>\n",
       "      <td>8</td>\n",
       "      <td>2</td>\n",
       "      <td>1</td>\n",
       "      <td>Single</td>\n",
       "      <td>No</td>\n",
       "      <td>Phone App</td>\n",
       "      <td>Completed</td>\n",
       "      <td>Yes</td>\n",
       "      <td>The Marimekko</td>\n",
       "      <td>5/26/2020</td>\n",
       "      <td>Weekday</td>\n",
       "    </tr>\n",
       "    <tr>\n",
       "      <th>7</th>\n",
       "      <td>202.98</td>\n",
       "      <td>326376-RY-3568-LI</td>\n",
       "      <td>6/29/2020</td>\n",
       "      <td>5</td>\n",
       "      <td>2</td>\n",
       "      <td>2</td>\n",
       "      <td>Queen</td>\n",
       "      <td>Yes</td>\n",
       "      <td>Call Center</td>\n",
       "      <td>Completed</td>\n",
       "      <td>Yes</td>\n",
       "      <td>The Sankey</td>\n",
       "      <td>6/29/2020</td>\n",
       "      <td>Weekend</td>\n",
       "    </tr>\n",
       "    <tr>\n",
       "      <th>8</th>\n",
       "      <td>114.45</td>\n",
       "      <td>551941-TB-2714-OC</td>\n",
       "      <td>2020-11-04 00:00:00</td>\n",
       "      <td>14</td>\n",
       "      <td>1</td>\n",
       "      <td>3</td>\n",
       "      <td>King</td>\n",
       "      <td>No</td>\n",
       "      <td>Walk-in</td>\n",
       "      <td>Completed</td>\n",
       "      <td>No</td>\n",
       "      <td>The Marimekko</td>\n",
       "      <td>2020-11-04 00:00:00</td>\n",
       "      <td>Weekday</td>\n",
       "    </tr>\n",
       "    <tr>\n",
       "      <th>9</th>\n",
       "      <td>158.05</td>\n",
       "      <td>904493-57-8273-HE</td>\n",
       "      <td>2020-01-05 00:00:00</td>\n",
       "      <td>6</td>\n",
       "      <td>4</td>\n",
       "      <td>4</td>\n",
       "      <td>Executive Suite</td>\n",
       "      <td>Yes</td>\n",
       "      <td>Travel Agent</td>\n",
       "      <td>Completed</td>\n",
       "      <td>Yes</td>\n",
       "      <td>The Marimekko</td>\n",
       "      <td>2020-01-05 00:00:00</td>\n",
       "      <td>Weekday</td>\n",
       "    </tr>\n",
       "    <tr>\n",
       "      <th>10</th>\n",
       "      <td>152.10</td>\n",
       "      <td>920861-MI-9096-QM</td>\n",
       "      <td>2020-12-03 00:00:00</td>\n",
       "      <td>4</td>\n",
       "      <td>1</td>\n",
       "      <td>3</td>\n",
       "      <td>Single</td>\n",
       "      <td>Yes</td>\n",
       "      <td>Phone App</td>\n",
       "      <td>Completed</td>\n",
       "      <td>Yes</td>\n",
       "      <td>The Sankey</td>\n",
       "      <td>2020-12-03 00:00:00</td>\n",
       "      <td>Weekday</td>\n",
       "    </tr>\n",
       "    <tr>\n",
       "      <th>11</th>\n",
       "      <td>169.00</td>\n",
       "      <td>048880-Y3-6337-JW</td>\n",
       "      <td>8/20/2020</td>\n",
       "      <td>14</td>\n",
       "      <td>1</td>\n",
       "      <td>4</td>\n",
       "      <td>Double</td>\n",
       "      <td>No</td>\n",
       "      <td>Website</td>\n",
       "      <td>Completed</td>\n",
       "      <td>Yes</td>\n",
       "      <td>The Sankey</td>\n",
       "      <td>8/20/2020</td>\n",
       "      <td>Weekday</td>\n",
       "    </tr>\n",
       "    <tr>\n",
       "      <th>12</th>\n",
       "      <td>169.00</td>\n",
       "      <td>626894-5F-4141-SF</td>\n",
       "      <td>8/19/2020</td>\n",
       "      <td>4</td>\n",
       "      <td>3</td>\n",
       "      <td>3</td>\n",
       "      <td>Double</td>\n",
       "      <td>No</td>\n",
       "      <td>Website</td>\n",
       "      <td>No-Show</td>\n",
       "      <td>Yes</td>\n",
       "      <td>The Sankey</td>\n",
       "      <td>8/19/2020</td>\n",
       "      <td>Weekday</td>\n",
       "    </tr>\n",
       "    <tr>\n",
       "      <th>13</th>\n",
       "      <td>185.90</td>\n",
       "      <td>994879-JK-9523-MQ</td>\n",
       "      <td>2020-04-02 00:00:00</td>\n",
       "      <td>1</td>\n",
       "      <td>1</td>\n",
       "      <td>4</td>\n",
       "      <td>Suite</td>\n",
       "      <td>Yes</td>\n",
       "      <td>Travel Agent</td>\n",
       "      <td>Completed</td>\n",
       "      <td>Yes</td>\n",
       "      <td>The Sankey</td>\n",
       "      <td>2020-04-02 00:00:00</td>\n",
       "      <td>Weekday</td>\n",
       "    </tr>\n",
       "    <tr>\n",
       "      <th>14</th>\n",
       "      <td>152.10</td>\n",
       "      <td>840483-EV-5465-FX</td>\n",
       "      <td>3/19/2020</td>\n",
       "      <td>5</td>\n",
       "      <td>2</td>\n",
       "      <td>3</td>\n",
       "      <td>Single</td>\n",
       "      <td>Yes</td>\n",
       "      <td>Travel Agent</td>\n",
       "      <td>Completed</td>\n",
       "      <td>Yes</td>\n",
       "      <td>The Sankey</td>\n",
       "      <td>3/19/2020</td>\n",
       "      <td>Weekday</td>\n",
       "    </tr>\n",
       "    <tr>\n",
       "      <th>15</th>\n",
       "      <td>99.00</td>\n",
       "      <td>247643-NI-8416-OR</td>\n",
       "      <td>3/30/2020</td>\n",
       "      <td>2</td>\n",
       "      <td>3</td>\n",
       "      <td>1</td>\n",
       "      <td>Double</td>\n",
       "      <td>No</td>\n",
       "      <td>Website</td>\n",
       "      <td>No-Show</td>\n",
       "      <td>Yes</td>\n",
       "      <td>The Marimekko</td>\n",
       "      <td>3/30/2020</td>\n",
       "      <td>Weekend</td>\n",
       "    </tr>\n",
       "    <tr>\n",
       "      <th>16</th>\n",
       "      <td>98.10</td>\n",
       "      <td>998739-IM-8933-CT</td>\n",
       "      <td>5/28/2020</td>\n",
       "      <td>9</td>\n",
       "      <td>2</td>\n",
       "      <td>3</td>\n",
       "      <td>Single</td>\n",
       "      <td>Yes</td>\n",
       "      <td>Call Center</td>\n",
       "      <td>No-Show</td>\n",
       "      <td>No</td>\n",
       "      <td>The Marimekko</td>\n",
       "      <td>5/28/2020</td>\n",
       "      <td>Weekday</td>\n",
       "    </tr>\n",
       "    <tr>\n",
       "      <th>17</th>\n",
       "      <td>169.00</td>\n",
       "      <td>482567-N1-4752-IR</td>\n",
       "      <td>4/15/2020</td>\n",
       "      <td>3</td>\n",
       "      <td>2</td>\n",
       "      <td>3</td>\n",
       "      <td>Double</td>\n",
       "      <td>Yes</td>\n",
       "      <td>Website</td>\n",
       "      <td>Completed</td>\n",
       "      <td>Yes</td>\n",
       "      <td>The Sankey</td>\n",
       "      <td>4/15/2020</td>\n",
       "      <td>Weekday</td>\n",
       "    </tr>\n",
       "    <tr>\n",
       "      <th>18</th>\n",
       "      <td>169.00</td>\n",
       "      <td>489685-74-8841-YI</td>\n",
       "      <td>2/25/2020</td>\n",
       "      <td>7</td>\n",
       "      <td>1</td>\n",
       "      <td>2</td>\n",
       "      <td>Double</td>\n",
       "      <td>Yes</td>\n",
       "      <td>Website</td>\n",
       "      <td>Completed</td>\n",
       "      <td>Yes</td>\n",
       "      <td>The Sankey</td>\n",
       "      <td>2/25/2020</td>\n",
       "      <td>Weekday</td>\n",
       "    </tr>\n",
       "    <tr>\n",
       "      <th>19</th>\n",
       "      <td>100.98</td>\n",
       "      <td>183831-MD-9576-KQ</td>\n",
       "      <td>2020-01-03 00:00:00</td>\n",
       "      <td>12</td>\n",
       "      <td>1</td>\n",
       "      <td>4</td>\n",
       "      <td>Queen</td>\n",
       "      <td>Yes</td>\n",
       "      <td>Phone App</td>\n",
       "      <td>Completed</td>\n",
       "      <td>Yes</td>\n",
       "      <td>The Chord</td>\n",
       "      <td>2020-01-03 00:00:00</td>\n",
       "      <td>Weekend</td>\n",
       "    </tr>\n",
       "  </tbody>\n",
       "</table>\n",
       "</div>"
      ],
      "text/plain": [
       "    Avg Room Rate     reservation_id        check_in_date  stay_duration  \\\n",
       "0           71.10  779087-Y5-9824-SA            4/15/2020             13   \n",
       "1           71.10  984023-QO-5015-YG  2020-12-06 00:00:00              3   \n",
       "2          172.38  518066-UQ-2315-FK            2/25/2020             11   \n",
       "3          172.38  130339-H9-2116-KE            9/15/2020             11   \n",
       "4          199.00  961051-40-0956-EO  2020-05-01 00:00:00             14   \n",
       "5          177.45  885684-T0-2055-IO  2020-07-07 00:00:00             10   \n",
       "6           98.10  050756-9V-7369-IN            5/26/2020              8   \n",
       "7          202.98  326376-RY-3568-LI            6/29/2020              5   \n",
       "8          114.45  551941-TB-2714-OC  2020-11-04 00:00:00             14   \n",
       "9          158.05  904493-57-8273-HE  2020-01-05 00:00:00              6   \n",
       "10         152.10  920861-MI-9096-QM  2020-12-03 00:00:00              4   \n",
       "11         169.00  048880-Y3-6337-JW            8/20/2020             14   \n",
       "12         169.00  626894-5F-4141-SF            8/19/2020              4   \n",
       "13         185.90  994879-JK-9523-MQ  2020-04-02 00:00:00              1   \n",
       "14         152.10  840483-EV-5465-FX            3/19/2020              5   \n",
       "15          99.00  247643-NI-8416-OR            3/30/2020              2   \n",
       "16          98.10  998739-IM-8933-CT            5/28/2020              9   \n",
       "17         169.00  482567-N1-4752-IR            4/15/2020              3   \n",
       "18         169.00  489685-74-8841-YI            2/25/2020              7   \n",
       "19         100.98  183831-MD-9576-KQ  2020-01-03 00:00:00             12   \n",
       "\n",
       "    adults  children        room_type special_requests_flag booking_channel  \\\n",
       "0        3         4           Single                   Yes     Call Center   \n",
       "1        3         3           Single                    No    Travel Agent   \n",
       "2        4         2            Queen                    No     Call Center   \n",
       "3        4         1            Queen                    No         Website   \n",
       "4        2         4           Double                   Yes         Walk-in   \n",
       "5        3         3             King                    No         Website   \n",
       "6        2         1           Single                    No       Phone App   \n",
       "7        2         2            Queen                   Yes     Call Center   \n",
       "8        1         3             King                    No         Walk-in   \n",
       "9        4         4  Executive Suite                   Yes    Travel Agent   \n",
       "10       1         3           Single                   Yes       Phone App   \n",
       "11       1         4           Double                    No         Website   \n",
       "12       3         3           Double                    No         Website   \n",
       "13       1         4            Suite                   Yes    Travel Agent   \n",
       "14       2         3           Single                   Yes    Travel Agent   \n",
       "15       3         1           Double                    No         Website   \n",
       "16       2         3           Single                   Yes     Call Center   \n",
       "17       2         3           Double                   Yes         Website   \n",
       "18       1         2           Double                   Yes         Website   \n",
       "19       1         4            Queen                   Yes       Phone App   \n",
       "\n",
       "   reservation_status advanced_booking       Property                 Date  \\\n",
       "0           Completed              Yes      The Chord            4/15/2020   \n",
       "1           Completed              Yes      The Chord  2020-12-06 00:00:00   \n",
       "2           Completed              Yes     The Sankey            2/25/2020   \n",
       "3             No-Show              Yes     The Sankey            9/15/2020   \n",
       "4           Completed               No     The Sankey  2020-05-01 00:00:00   \n",
       "5           Completed              Yes     The Sankey  2020-07-07 00:00:00   \n",
       "6           Completed              Yes  The Marimekko            5/26/2020   \n",
       "7           Completed              Yes     The Sankey            6/29/2020   \n",
       "8           Completed               No  The Marimekko  2020-11-04 00:00:00   \n",
       "9           Completed              Yes  The Marimekko  2020-01-05 00:00:00   \n",
       "10          Completed              Yes     The Sankey  2020-12-03 00:00:00   \n",
       "11          Completed              Yes     The Sankey            8/20/2020   \n",
       "12            No-Show              Yes     The Sankey            8/19/2020   \n",
       "13          Completed              Yes     The Sankey  2020-04-02 00:00:00   \n",
       "14          Completed              Yes     The Sankey            3/19/2020   \n",
       "15            No-Show              Yes  The Marimekko            3/30/2020   \n",
       "16            No-Show               No  The Marimekko            5/28/2020   \n",
       "17          Completed              Yes     The Sankey            4/15/2020   \n",
       "18          Completed              Yes     The Sankey            2/25/2020   \n",
       "19          Completed              Yes      The Chord  2020-01-03 00:00:00   \n",
       "\n",
       "   Rate Type  \n",
       "0    Weekday  \n",
       "1    Weekday  \n",
       "2    Weekday  \n",
       "3    Weekday  \n",
       "4    Weekend  \n",
       "5    Weekday  \n",
       "6    Weekday  \n",
       "7    Weekend  \n",
       "8    Weekday  \n",
       "9    Weekday  \n",
       "10   Weekday  \n",
       "11   Weekday  \n",
       "12   Weekday  \n",
       "13   Weekday  \n",
       "14   Weekday  \n",
       "15   Weekend  \n",
       "16   Weekday  \n",
       "17   Weekday  \n",
       "18   Weekday  \n",
       "19   Weekend  "
      ]
     },
     "execution_count": 132,
     "metadata": {},
     "output_type": "execute_result"
    }
   ],
   "source": [
    "df_csv.head(20)"
   ]
  },
  {
   "cell_type": "code",
   "execution_count": 134,
   "id": "d6e2cab1-2bfe-42db-ba57-033beb117409",
   "metadata": {},
   "outputs": [
    {
     "data": {
      "text/plain": [
       "(50000, 14)"
      ]
     },
     "execution_count": 134,
     "metadata": {},
     "output_type": "execute_result"
    }
   ],
   "source": [
    "df_csv.shape"
   ]
  },
  {
   "cell_type": "code",
   "execution_count": 135,
   "id": "89d3e862-cb00-4c4c-842f-cfab0e99b8fa",
   "metadata": {},
   "outputs": [
    {
     "data": {
      "text/plain": [
       "<bound method NDFrame.describe of        Avg Room Rate     reservation_id        check_in_date  stay_duration  \\\n",
       "0              71.10  779087-Y5-9824-SA            4/15/2020             13   \n",
       "1              71.10  984023-QO-5015-YG  2020-12-06 00:00:00              3   \n",
       "2             172.38  518066-UQ-2315-FK            2/25/2020             11   \n",
       "3             172.38  130339-H9-2116-KE            9/15/2020             11   \n",
       "4             199.00  961051-40-0956-EO  2020-05-01 00:00:00             14   \n",
       "...              ...                ...                  ...            ...   \n",
       "49995         177.45  248063-7J-6726-SQ  2020-06-06 00:00:00              6   \n",
       "49996         100.98  988239-X6-3251-XO  2020-09-02 00:00:00             12   \n",
       "49997         208.95  644180-N3-2350-ZJ  2020-08-06 00:00:00              2   \n",
       "49998         202.98  866690-J9-9283-PA            5/17/2020              3   \n",
       "49999          80.58  074193-UW-0434-ZV            6/19/2020             11   \n",
       "\n",
       "       adults  children room_type special_requests_flag booking_channel  \\\n",
       "0           3         4    Single                   Yes     Call Center   \n",
       "1           3         3    Single                    No    Travel Agent   \n",
       "2           4         2     Queen                    No     Call Center   \n",
       "3           4         1     Queen                    No         Website   \n",
       "4           2         4    Double                   Yes         Walk-in   \n",
       "...       ...       ...       ...                   ...             ...   \n",
       "49995       1         4      King                   Yes     Call Center   \n",
       "49996       1         2     Queen                    No         Website   \n",
       "49997       3         1      King                    No       Phone App   \n",
       "49998       2         2     Queen                    No       Phone App   \n",
       "49999       3         1     Queen                    No     Call Center   \n",
       "\n",
       "      reservation_status advanced_booking    Property                 Date  \\\n",
       "0              Completed              Yes   The Chord            4/15/2020   \n",
       "1              Completed              Yes   The Chord  2020-12-06 00:00:00   \n",
       "2              Completed              Yes  The Sankey            2/25/2020   \n",
       "3                No-Show              Yes  The Sankey            9/15/2020   \n",
       "4              Completed               No  The Sankey  2020-05-01 00:00:00   \n",
       "...                  ...              ...         ...                  ...   \n",
       "49995          Completed               No  The Sankey  2020-06-06 00:00:00   \n",
       "49996          Completed               No   The Chord  2020-09-02 00:00:00   \n",
       "49997          Completed              Yes  The Sankey  2020-08-06 00:00:00   \n",
       "49998          Completed              Yes  The Sankey            5/17/2020   \n",
       "49999            No-Show              Yes   The Chord            6/19/2020   \n",
       "\n",
       "      Rate Type  \n",
       "0       Weekday  \n",
       "1       Weekday  \n",
       "2       Weekday  \n",
       "3       Weekday  \n",
       "4       Weekend  \n",
       "...         ...  \n",
       "49995   Weekday  \n",
       "49996   Weekend  \n",
       "49997   Weekend  \n",
       "49998   Weekend  \n",
       "49999   Weekday  \n",
       "\n",
       "[50000 rows x 14 columns]>"
      ]
     },
     "execution_count": 135,
     "metadata": {},
     "output_type": "execute_result"
    }
   ],
   "source": [
    "df_csv.describe"
   ]
  },
  {
   "cell_type": "code",
   "execution_count": 136,
   "id": "4b8388ee-fccf-4248-9c12-3e371b82bc0f",
   "metadata": {},
   "outputs": [
    {
     "data": {
      "text/plain": [
       "Avg Room Rate            float64\n",
       "reservation_id            object\n",
       "check_in_date             object\n",
       "stay_duration              int64\n",
       "adults                     int64\n",
       "children                   int64\n",
       "room_type                 object\n",
       "special_requests_flag     object\n",
       "booking_channel           object\n",
       "reservation_status        object\n",
       "advanced_booking          object\n",
       "Property                  object\n",
       "Date                      object\n",
       "Rate Type                 object\n",
       "dtype: object"
      ]
     },
     "execution_count": 136,
     "metadata": {},
     "output_type": "execute_result"
    }
   ],
   "source": [
    "df_csv.dtypes"
   ]
  },
  {
   "cell_type": "code",
   "execution_count": 140,
   "id": "ec324bff-3a12-45f4-91d8-ecdab450452b",
   "metadata": {},
   "outputs": [
    {
     "data": {
      "text/plain": [
       "Avg Room Rate            0\n",
       "reservation_id           0\n",
       "check_in_date            0\n",
       "stay_duration            0\n",
       "adults                   0\n",
       "children                 0\n",
       "room_type                0\n",
       "special_requests_flag    0\n",
       "booking_channel          0\n",
       "reservation_status       0\n",
       "advanced_booking         0\n",
       "Property                 0\n",
       "Date                     0\n",
       "Rate Type                0\n",
       "dtype: int64"
      ]
     },
     "execution_count": 140,
     "metadata": {},
     "output_type": "execute_result"
    }
   ],
   "source": [
    "df_csv.isnull().sum()"
   ]
  },
  {
   "cell_type": "code",
   "execution_count": 138,
   "id": "dd357950-89f7-4d64-b229-51e023ac94bc",
   "metadata": {},
   "outputs": [],
   "source": [
    "import matplotlib.pyplot as plt"
   ]
  },
  {
   "cell_type": "code",
   "execution_count": 212,
   "id": "5053d7ae-f0b2-4951-9767-5cd3bb12c3c9",
   "metadata": {},
   "outputs": [
    {
     "ename": "SyntaxError",
     "evalue": "invalid syntax (2052718864.py, line 1)",
     "output_type": "error",
     "traceback": [
      "\u001b[1;36m  Cell \u001b[1;32mIn[212], line 1\u001b[1;36m\u001b[0m\n\u001b[1;33m    df_csv.['adults'].hist()\u001b[0m\n\u001b[1;37m           ^\u001b[0m\n\u001b[1;31mSyntaxError\u001b[0m\u001b[1;31m:\u001b[0m invalid syntax\n"
     ]
    }
   ],
   "source": [
    "df_csv['adults'].hist()"
   ]
  },
  {
   "cell_type": "code",
   "execution_count": 144,
   "id": "bd05b3cb-44c0-4c0a-a012-a5924a2ec43b",
   "metadata": {},
   "outputs": [
    {
     "data": {
      "text/plain": [
       "-0.0058410710948722635"
      ]
     },
     "execution_count": 144,
     "metadata": {},
     "output_type": "execute_result"
    }
   ],
   "source": [
    "df_csv['stay_duration'].corr(df_csv['adults'])"
   ]
  },
  {
   "cell_type": "code",
   "execution_count": 145,
   "id": "e406440c-2b21-4a52-9b7c-712f7eb8ff5b",
   "metadata": {},
   "outputs": [
    {
     "data": {
      "text/plain": [
       "<Axes: >"
      ]
     },
     "execution_count": 145,
     "metadata": {},
     "output_type": "execute_result"
    },
    {
     "data": {
      "image/png": "[encoded data removed]",
      "text/plain": [
       "<Figure size 640x480 with 1 Axes>"
      ]
     },
     "metadata": {},
     "output_type": "display_data"
    }
   ],
   "source": [
    "df_csv.boxplot(column='stay_duration')"
   ]
  },
  {
   "cell_type": "code",
   "execution_count": 149,
   "id": "4ebc31e6-0b6e-4647-9f2f-338b625689fc",
   "metadata": {},
   "outputs": [
    {
     "data": {
      "image/png": "[encoded data removed]",
      "text/plain": [
       "<Figure size 640x480 with 1 Axes>"
      ]
     },
     "metadata": {},
     "output_type": "display_data"
    }
   ],
   "source": [
    "plt.scatter(df_csv['adults'],df_csv['children'])\n",
    "plt.xlabel('adults')\n",
    "plt.ylabel('children')\n",
    "plt.show()"
   ]
  },
  {
   "cell_type": "code",
   "execution_count": 154,
   "id": "66b9f3bb-faf8-4df4-b312-408ac6535923",
   "metadata": {},
   "outputs": [
    {
     "name": "stdout",
     "output_type": "stream",
     "text": [
      "       Avg Room Rate     reservation_id        check_in_date  stay_duration  \\\n",
      "0              71.10  779087-Y5-9824-SA            4/15/2020             13   \n",
      "1              71.10  984023-QO-5015-YG  2020-12-06 00:00:00              3   \n",
      "2             172.38  518066-UQ-2315-FK            2/25/2020             11   \n",
      "3             172.38  130339-H9-2116-KE            9/15/2020             11   \n",
      "4             199.00  961051-40-0956-EO  2020-05-01 00:00:00             14   \n",
      "...              ...                ...                  ...            ...   \n",
      "49995         177.45  248063-7J-6726-SQ  2020-06-06 00:00:00              6   \n",
      "49996         100.98  988239-X6-3251-XO  2020-09-02 00:00:00             12   \n",
      "49997         208.95  644180-N3-2350-ZJ  2020-08-06 00:00:00              2   \n",
      "49998         202.98  866690-J9-9283-PA            5/17/2020              3   \n",
      "49999          80.58  074193-UW-0434-ZV            6/19/2020             11   \n",
      "\n",
      "       adults  children room_type special_requests_flag booking_channel  \\\n",
      "0           3         4    Single                   Yes     Call Center   \n",
      "1           3         3    Single                    No    Travel Agent   \n",
      "2           4         2     Queen                    No     Call Center   \n",
      "3           4         1     Queen                    No         Website   \n",
      "4           2         4    Double                   Yes         Walk-in   \n",
      "...       ...       ...       ...                   ...             ...   \n",
      "49995       1         4      King                   Yes     Call Center   \n",
      "49996       1         2     Queen                    No         Website   \n",
      "49997       3         1      King                    No       Phone App   \n",
      "49998       2         2     Queen                    No       Phone App   \n",
      "49999       3         1     Queen                    No     Call Center   \n",
      "\n",
      "      reservation_status advanced_booking    Property                 Date  \\\n",
      "0              Completed              Yes   The Chord            4/15/2020   \n",
      "1              Completed              Yes   The Chord  2020-12-06 00:00:00   \n",
      "2              Completed              Yes  The Sankey            2/25/2020   \n",
      "3                No-Show              Yes  The Sankey            9/15/2020   \n",
      "4              Completed               No  The Sankey  2020-05-01 00:00:00   \n",
      "...                  ...              ...         ...                  ...   \n",
      "49995          Completed               No  The Sankey  2020-06-06 00:00:00   \n",
      "49996          Completed               No   The Chord  2020-09-02 00:00:00   \n",
      "49997          Completed              Yes  The Sankey  2020-08-06 00:00:00   \n",
      "49998          Completed              Yes  The Sankey            5/17/2020   \n",
      "49999            No-Show              Yes   The Chord            6/19/2020   \n",
      "\n",
      "      Rate Type  \n",
      "0       Weekday  \n",
      "1       Weekday  \n",
      "2       Weekday  \n",
      "3       Weekday  \n",
      "4       Weekend  \n",
      "...         ...  \n",
      "49995   Weekday  \n",
      "49996   Weekend  \n",
      "49997   Weekend  \n",
      "49998   Weekend  \n",
      "49999   Weekday  \n",
      "\n",
      "[50000 rows x 14 columns]\n"
     ]
    }
   ],
   "source": [
    "df_csv.dropna(inplace=True)\n",
    "print (df_csv)"
   ]
  },
  {
   "cell_type": "markdown",
   "id": "a222ba77-720e-45c6-a971-f7d373891295",
   "metadata": {},
   "source": [
    "FOR REMOVING FROM SPECIFIC CLM"
   ]
  },
  {
   "cell_type": "raw",
   "id": "29b0de2a-94f0-4531-b334-cf43372787e9",
   "metadata": {},
   "source": [
    "df_csv.drop('stay_duration', axis=1, inplace=True)"
   ]
  },
  {
   "cell_type": "code",
   "execution_count": 175,
   "id": "973fdc30-43e9-4bd6-b817-37d5722ae52d",
   "metadata": {},
   "outputs": [
    {
     "name": "stdout",
     "output_type": "stream",
     "text": [
      "       Avg Room Rate     reservation_id        check_in_date  stay_duration  \\\n",
      "0              71.10  779087-Y5-9824-SA            4/15/2020             13   \n",
      "1              71.10  984023-QO-5015-YG  2020-12-06 00:00:00              3   \n",
      "2             172.38  518066-UQ-2315-FK            2/25/2020             11   \n",
      "3             172.38  130339-H9-2116-KE            9/15/2020             11   \n",
      "4             199.00  961051-40-0956-EO  2020-05-01 00:00:00             14   \n",
      "...              ...                ...                  ...            ...   \n",
      "49995         177.45  248063-7J-6726-SQ  2020-06-06 00:00:00              6   \n",
      "49996         100.98  988239-X6-3251-XO  2020-09-02 00:00:00             12   \n",
      "49997         208.95  644180-N3-2350-ZJ  2020-08-06 00:00:00              2   \n",
      "49998         202.98  866690-J9-9283-PA            5/17/2020              3   \n",
      "49999          80.58  074193-UW-0434-ZV            6/19/2020             11   \n",
      "\n",
      "       children room_type special_requests_flag booking_channel  \\\n",
      "0             4    Single                   Yes     Call Center   \n",
      "1             3    Single                    No    Travel Agent   \n",
      "2             2     Queen                    No     Call Center   \n",
      "3             1     Queen                    No         Website   \n",
      "4             4    Double                   Yes         Walk-in   \n",
      "...         ...       ...                   ...             ...   \n",
      "49995         4      King                   Yes     Call Center   \n",
      "49996         2     Queen                    No         Website   \n",
      "49997         1      King                    No       Phone App   \n",
      "49998         2     Queen                    No       Phone App   \n",
      "49999         1     Queen                    No     Call Center   \n",
      "\n",
      "      advanced_booking                 Date Rate Type  \n",
      "0                  Yes            4/15/2020   Weekday  \n",
      "1                  Yes  2020-12-06 00:00:00   Weekday  \n",
      "2                  Yes            2/25/2020   Weekday  \n",
      "3                  Yes            9/15/2020   Weekday  \n",
      "4                   No  2020-05-01 00:00:00   Weekend  \n",
      "...                ...                  ...       ...  \n",
      "49995               No  2020-06-06 00:00:00   Weekday  \n",
      "49996               No  2020-09-02 00:00:00   Weekend  \n",
      "49997              Yes  2020-08-06 00:00:00   Weekend  \n",
      "49998              Yes            5/17/2020   Weekend  \n",
      "49999              Yes            6/19/2020   Weekday  \n",
      "\n",
      "[50000 rows x 11 columns]\n"
     ]
    }
   ],
   "source": [
    "print (df_csv)"
   ]
  },
  {
   "cell_type": "code",
   "execution_count": 213,
   "id": "d335b45e-8c68-4ad0-be8f-f9984fe03303",
   "metadata": {},
   "outputs": [
    {
     "data": {
      "text/plain": [
       "[<matplotlib.lines.Line2D at 0x18ee886f080>]"
      ]
     },
     "execution_count": 213,
     "metadata": {},
     "output_type": "execute_result"
    },
    {
     "data": {
      "image/png": "[encoded data removed]",
      "text/plain": [
       "<Figure size 640x480 with 1 Axes>"
      ]
     },
     "metadata": {},
     "output_type": "display_data"
    }
   ],
   "source": [
    "x=[1,2,3,4,5,]\n",
    "y=[4,9,10,23,45]\n",
    "plt.plot(x,y,marker='o',linestyle='-',color='y',label='Line Plot')"
   ]
  },
  {
   "cell_type": "code",
   "execution_count": 202,
   "id": "697cbede-5839-433c-81c2-56021215e288",
   "metadata": {},
   "outputs": [
    {
     "data": {
      "text/plain": [
       "<BarContainer object of 4 artists>"
      ]
     },
     "execution_count": 202,
     "metadata": {},
     "output_type": "execute_result"
    },
    {
     "data": {
      "image/png": "[encoded data removed]",
      "text/plain": [
       "<Figure size 640x480 with 1 Axes>"
      ]
     },
     "metadata": {},
     "output_type": "display_data"
    }
   ],
   "source": [
    "categories=['A','B','C','D']\n",
    "values=[25,35,45,55]\n",
    "plt.bar(categories,values,color='g',alpha=0.55,label='Bar Chart')"
   ]
  },
  {
   "cell_type": "code",
   "execution_count": 228,
   "id": "10aaf6e9-9af0-4c22-bd5c-b24eed987453",
   "metadata": {},
   "outputs": [
    {
     "name": "stdout",
     "output_type": "stream",
     "text": [
      "Requirement already satisfied: seaborn in c:\\users\\hp\\anaconda3\\lib\\site-packages (0.13.2)Note: you may need to restart the kernel to use updated packages.\n",
      "\n",
      "Requirement already satisfied: numpy!=1.24.0,>=1.20 in c:\\users\\hp\\anaconda3\\lib\\site-packages (from seaborn) (1.26.4)\n",
      "Requirement already satisfied: pandas>=1.2 in c:\\users\\hp\\anaconda3\\lib\\site-packages (from seaborn) (2.2.2)\n",
      "Requirement already satisfied: matplotlib!=3.6.1,>=3.4 in c:\\users\\hp\\anaconda3\\lib\\site-packages (from seaborn) (3.9.2)\n",
      "Requirement already satisfied: contourpy>=1.0.1 in c:\\users\\hp\\anaconda3\\lib\\site-packages (from matplotlib!=3.6.1,>=3.4->seaborn) (1.2.0)\n",
      "Requirement already satisfied: cycler>=0.10 in c:\\users\\hp\\anaconda3\\lib\\site-packages (from matplotlib!=3.6.1,>=3.4->seaborn) (0.11.0)\n",
      "Requirement already satisfied: fonttools>=4.22.0 in c:\\users\\hp\\anaconda3\\lib\\site-packages (from matplotlib!=3.6.1,>=3.4->seaborn) (4.51.0)\n",
      "Requirement already satisfied: kiwisolver>=1.3.1 in c:\\users\\hp\\anaconda3\\lib\\site-packages (from matplotlib!=3.6.1,>=3.4->seaborn) (1.4.4)\n",
      "Requirement already satisfied: packaging>=20.0 in c:\\users\\hp\\anaconda3\\lib\\site-packages (from matplotlib!=3.6.1,>=3.4->seaborn) (24.1)\n",
      "Requirement already satisfied: pillow>=8 in c:\\users\\hp\\anaconda3\\lib\\site-packages (from matplotlib!=3.6.1,>=3.4->seaborn) (10.4.0)\n",
      "Requirement already satisfied: pyparsing>=2.3.1 in c:\\users\\hp\\anaconda3\\lib\\site-packages (from matplotlib!=3.6.1,>=3.4->seaborn) (3.1.2)\n",
      "Requirement already satisfied: python-dateutil>=2.7 in c:\\users\\hp\\anaconda3\\lib\\site-packages (from matplotlib!=3.6.1,>=3.4->seaborn) (2.9.0.post0)\n",
      "Requirement already satisfied: pytz>=2020.1 in c:\\users\\hp\\anaconda3\\lib\\site-packages (from pandas>=1.2->seaborn) (2024.1)\n",
      "Requirement already satisfied: tzdata>=2022.7 in c:\\users\\hp\\anaconda3\\lib\\site-packages (from pandas>=1.2->seaborn) (2023.3)\n",
      "Requirement already satisfied: six>=1.5 in c:\\users\\hp\\anaconda3\\lib\\site-packages (from python-dateutil>=2.7->matplotlib!=3.6.1,>=3.4->seaborn) (1.16.0)\n"
     ]
    }
   ],
   "source": [
    "pip install seaborn"
   ]
  },
  {
   "cell_type": "code",
   "execution_count": 266,
   "id": "fc310028-e4e3-434f-acc9-8a1cec7be0a1",
   "metadata": {},
   "outputs": [],
   "source": [
    "import seaborn as sns\n",
    "import matplotlib.pyplot as plt\n",
    "data = sns.load_dataset(\"iris\")"
   ]
  },
  {
   "cell_type": "code",
   "execution_count": 267,
   "id": "48a06b99-7de9-46d9-99c3-34f25a9aaa24",
   "metadata": {},
   "outputs": [],
   "source": [
    "import seaborn as sns\n",
    "import matplotlib.pyplot as plt\n",
    "data = sns.load_dataset(\"iris\")"
   ]
  },
  {
   "cell_type": "code",
   "execution_count": 248,
   "id": "896d72c3-9404-48f2-a897-fcebd7aac7c9",
   "metadata": {},
   "outputs": [],
   "source": [
    "import warnings\n",
    "warnings.filterwarnings=(\"ignore\")"
   ]
  },
  {
   "cell_type": "code",
   "execution_count": null,
   "id": "996f3143-d2d2-4f2a-ac0b-c00e69af7d4f",
   "metadata": {},
   "outputs": [],
   "source": []
  },
  {
   "cell_type": "code",
   "execution_count": 244,
   "id": "41d8e74b-a750-41c1-95ed-0f1c1373de8c",
   "metadata": {},
   "outputs": [
    {
     "name": "stderr",
     "output_type": "stream",
     "text": [
      "C:\\Users\\hp\\AppData\\Local\\Temp\\ipykernel_11284\\3622728017.py:2: FutureWarning: \n",
      "\n",
      "Passing `palette` without assigning `hue` is deprecated and will be removed in v0.14.0. Assign the `x` variable to `hue` and set `legend=False` for the same effect.\n",
      "\n",
      "  sns.boxplot(data=data, x=\"day\", y=\"total_bill\", palette=\"Set2\")\n"
     ]
    },
    {
     "ename": "NameError",
     "evalue": "name 'warnings' is not defined",
     "output_type": "error",
     "traceback": [
      "\u001b[1;31m---------------------------------------------------------------------------\u001b[0m",
      "\u001b[1;31mNameError\u001b[0m                                 Traceback (most recent call last)",
      "Cell \u001b[1;32mIn[244], line 3\u001b[0m\n\u001b[0;32m      1\u001b[0m data \u001b[38;5;241m=\u001b[39m sns\u001b[38;5;241m.\u001b[39mload_dataset(\u001b[38;5;124m\"\u001b[39m\u001b[38;5;124mtips\u001b[39m\u001b[38;5;124m\"\u001b[39m)\n\u001b[0;32m      2\u001b[0m sns\u001b[38;5;241m.\u001b[39mboxplot(data\u001b[38;5;241m=\u001b[39mdata, x\u001b[38;5;241m=\u001b[39m\u001b[38;5;124m\"\u001b[39m\u001b[38;5;124mday\u001b[39m\u001b[38;5;124m\"\u001b[39m, y\u001b[38;5;241m=\u001b[39m\u001b[38;5;124m\"\u001b[39m\u001b[38;5;124mtotal_bill\u001b[39m\u001b[38;5;124m\"\u001b[39m, palette\u001b[38;5;241m=\u001b[39m\u001b[38;5;124m\"\u001b[39m\u001b[38;5;124mSet2\u001b[39m\u001b[38;5;124m\"\u001b[39m)\n\u001b[1;32m----> 3\u001b[0m warnings\u001b[38;5;241m.\u001b[39mfilterwarnings\u001b[38;5;241m=\u001b[39m(\u001b[38;5;124m\"\u001b[39m\u001b[38;5;124mignore\u001b[39m\u001b[38;5;124m\"\u001b[39m)\n",
      "\u001b[1;31mNameError\u001b[0m: name 'warnings' is not defined"
     ]
    },
    {
     "data": {
      "image/png": "[encoded data removed]",
      "text/plain": [
       "<Figure size 640x480 with 1 Axes>"
      ]
     },
     "metadata": {},
     "output_type": "display_data"
    }
   ],
   "source": [
    "data = sns.load_dataset(\"tips\")\n",
    "sns.boxplot(data=data, x=\"day\", y=\"total_bill\", palette=\"Set2\")"
   ]
  },
  {
   "cell_type": "code",
   "execution_count": 277,
   "id": "70c2afa0-f728-4412-9167-2c4514704571",
   "metadata": {},
   "outputs": [],
   "source": [
    "import pandas as pd"
   ]
  },
  {
   "cell_type": "code",
   "execution_count": 273,
   "id": "9ab58164-824d-451e-a0f7-3740e3f6446c",
   "metadata": {},
   "outputs": [],
   "source": [
    "import seaborn as sns\n",
    "import matplotlib.pyplot as plt\n",
    "data = sns.load_dataset(\"tips\")\n"
   ]
  },
  {
   "cell_type": "code",
   "execution_count": 279,
   "id": "4e7148af-629c-42af-9edf-cc85c4d22454",
   "metadata": {},
   "outputs": [
    {
     "name": "stderr",
     "output_type": "stream",
     "text": [
      "C:\\Users\\hp\\AppData\\Local\\Temp\\ipykernel_11284\\545044124.py:1: FutureWarning: \n",
      "\n",
      "Passing `palette` without assigning `hue` is deprecated and will be removed in v0.14.0. Assign the `x` variable to `hue` and set `legend=False` for the same effect.\n",
      "\n",
      "  sns.violinplot(data=data, x=\"day\", y=\"total_bill\", palette=\"pastel\")\n"
     ]
    },
    {
     "ename": "TypeError",
     "evalue": "'str' object is not callable",
     "output_type": "error",
     "traceback": [
      "\u001b[1;31m---------------------------------------------------------------------------\u001b[0m",
      "\u001b[1;31mKeyError\u001b[0m                                  Traceback (most recent call last)",
      "File \u001b[1;32m~\\anaconda3\\Lib\\site-packages\\pandas\\core\\indexes\\base.py:3805\u001b[0m, in \u001b[0;36mIndex.get_loc\u001b[1;34m(self, key)\u001b[0m\n\u001b[0;32m   3804\u001b[0m \u001b[38;5;28;01mtry\u001b[39;00m:\n\u001b[1;32m-> 3805\u001b[0m     \u001b[38;5;28;01mreturn\u001b[39;00m \u001b[38;5;28mself\u001b[39m\u001b[38;5;241m.\u001b[39m_engine\u001b[38;5;241m.\u001b[39mget_loc(casted_key)\n\u001b[0;32m   3806\u001b[0m \u001b[38;5;28;01mexcept\u001b[39;00m \u001b[38;5;167;01mKeyError\u001b[39;00m \u001b[38;5;28;01mas\u001b[39;00m err:\n",
      "File \u001b[1;32mindex.pyx:167\u001b[0m, in \u001b[0;36mpandas._libs.index.IndexEngine.get_loc\u001b[1;34m()\u001b[0m\n",
      "File \u001b[1;32mindex.pyx:196\u001b[0m, in \u001b[0;36mpandas._libs.index.IndexEngine.get_loc\u001b[1;34m()\u001b[0m\n",
      "File \u001b[1;32mpandas\\\\_libs\\\\hashtable_class_helper.pxi:7081\u001b[0m, in \u001b[0;36mpandas._libs.hashtable.PyObjectHashTable.get_item\u001b[1;34m()\u001b[0m\n",
      "File \u001b[1;32mpandas\\\\_libs\\\\hashtable_class_helper.pxi:7089\u001b[0m, in \u001b[0;36mpandas._libs.hashtable.PyObjectHashTable.get_item\u001b[1;34m()\u001b[0m\n",
      "\u001b[1;31mKeyError\u001b[0m: 'hue'",
      "\nThe above exception was the direct cause of the following exception:\n",
      "\u001b[1;31mKeyError\u001b[0m                                  Traceback (most recent call last)",
      "File \u001b[1;32m~\\anaconda3\\Lib\\site-packages\\pandas\\core\\frame.py:4485\u001b[0m, in \u001b[0;36mDataFrame._set_item_mgr\u001b[1;34m(self, key, value, refs)\u001b[0m\n\u001b[0;32m   4484\u001b[0m \u001b[38;5;28;01mtry\u001b[39;00m:\n\u001b[1;32m-> 4485\u001b[0m     loc \u001b[38;5;241m=\u001b[39m \u001b[38;5;28mself\u001b[39m\u001b[38;5;241m.\u001b[39m_info_axis\u001b[38;5;241m.\u001b[39mget_loc(key)\n\u001b[0;32m   4486\u001b[0m \u001b[38;5;28;01mexcept\u001b[39;00m \u001b[38;5;167;01mKeyError\u001b[39;00m:\n\u001b[0;32m   4487\u001b[0m     \u001b[38;5;66;03m# This item wasn't present, just insert at end\u001b[39;00m\n",
      "File \u001b[1;32m~\\anaconda3\\Lib\\site-packages\\pandas\\core\\indexes\\base.py:3812\u001b[0m, in \u001b[0;36mIndex.get_loc\u001b[1;34m(self, key)\u001b[0m\n\u001b[0;32m   3811\u001b[0m         \u001b[38;5;28;01mraise\u001b[39;00m InvalidIndexError(key)\n\u001b[1;32m-> 3812\u001b[0m     \u001b[38;5;28;01mraise\u001b[39;00m \u001b[38;5;167;01mKeyError\u001b[39;00m(key) \u001b[38;5;28;01mfrom\u001b[39;00m \u001b[38;5;21;01merr\u001b[39;00m\n\u001b[0;32m   3813\u001b[0m \u001b[38;5;28;01mexcept\u001b[39;00m \u001b[38;5;167;01mTypeError\u001b[39;00m:\n\u001b[0;32m   3814\u001b[0m     \u001b[38;5;66;03m# If we have a listlike key, _check_indexing_error will raise\u001b[39;00m\n\u001b[0;32m   3815\u001b[0m     \u001b[38;5;66;03m#  InvalidIndexError. Otherwise we fall through and re-raise\u001b[39;00m\n\u001b[0;32m   3816\u001b[0m     \u001b[38;5;66;03m#  the TypeError.\u001b[39;00m\n",
      "\u001b[1;31mKeyError\u001b[0m: 'hue'",
      "\nDuring handling of the above exception, another exception occurred:\n",
      "\u001b[1;31mTypeError\u001b[0m                                 Traceback (most recent call last)",
      "Cell \u001b[1;32mIn[279], line 1\u001b[0m\n\u001b[1;32m----> 1\u001b[0m sns\u001b[38;5;241m.\u001b[39mviolinplot(data\u001b[38;5;241m=\u001b[39mdata, x\u001b[38;5;241m=\u001b[39m\u001b[38;5;124m\"\u001b[39m\u001b[38;5;124mday\u001b[39m\u001b[38;5;124m\"\u001b[39m, y\u001b[38;5;241m=\u001b[39m\u001b[38;5;124m\"\u001b[39m\u001b[38;5;124mtotal_bill\u001b[39m\u001b[38;5;124m\"\u001b[39m, palette\u001b[38;5;241m=\u001b[39m\u001b[38;5;124m\"\u001b[39m\u001b[38;5;124mpastel\u001b[39m\u001b[38;5;124m\"\u001b[39m)\n",
      "File \u001b[1;32m~\\anaconda3\\Lib\\site-packages\\seaborn\\categorical.py:1750\u001b[0m, in \u001b[0;36mviolinplot\u001b[1;34m(data, x, y, hue, order, hue_order, orient, color, palette, saturation, fill, inner, split, width, dodge, gap, linewidth, linecolor, cut, gridsize, bw_method, bw_adjust, density_norm, common_norm, hue_norm, formatter, log_scale, native_scale, legend, scale, scale_hue, bw, inner_kws, ax, **kwargs)\u001b[0m\n\u001b[0;32m   1747\u001b[0m p\u001b[38;5;241m.\u001b[39m_attach(ax, log_scale\u001b[38;5;241m=\u001b[39mlog_scale)\n\u001b[0;32m   1749\u001b[0m \u001b[38;5;66;03m# Deprecations to remove in v0.14.0.\u001b[39;00m\n\u001b[1;32m-> 1750\u001b[0m hue_order \u001b[38;5;241m=\u001b[39m p\u001b[38;5;241m.\u001b[39m_palette_without_hue_backcompat(palette, hue_order)\n\u001b[0;32m   1751\u001b[0m palette, hue_order \u001b[38;5;241m=\u001b[39m p\u001b[38;5;241m.\u001b[39m_hue_backcompat(color, palette, hue_order)\n\u001b[0;32m   1753\u001b[0m saturation \u001b[38;5;241m=\u001b[39m saturation \u001b[38;5;28;01mif\u001b[39;00m fill \u001b[38;5;28;01melse\u001b[39;00m \u001b[38;5;241m1\u001b[39m\n",
      "File \u001b[1;32m~\\anaconda3\\Lib\\site-packages\\seaborn\\categorical.py:198\u001b[0m, in \u001b[0;36m_CategoricalPlotter._palette_without_hue_backcompat\u001b[1;34m(self, palette, hue_order)\u001b[0m\n\u001b[0;32m    195\u001b[0m warnings\u001b[38;5;241m.\u001b[39mwarn(msg, \u001b[38;5;167;01mFutureWarning\u001b[39;00m, stacklevel\u001b[38;5;241m=\u001b[39m\u001b[38;5;241m3\u001b[39m)\n\u001b[0;32m    197\u001b[0m \u001b[38;5;28mself\u001b[39m\u001b[38;5;241m.\u001b[39mlegend \u001b[38;5;241m=\u001b[39m \u001b[38;5;28;01mFalse\u001b[39;00m\n\u001b[1;32m--> 198\u001b[0m \u001b[38;5;28mself\u001b[39m\u001b[38;5;241m.\u001b[39mplot_data[\u001b[38;5;124m\"\u001b[39m\u001b[38;5;124mhue\u001b[39m\u001b[38;5;124m\"\u001b[39m] \u001b[38;5;241m=\u001b[39m \u001b[38;5;28mself\u001b[39m\u001b[38;5;241m.\u001b[39mplot_data[\u001b[38;5;28mself\u001b[39m\u001b[38;5;241m.\u001b[39morient]\n\u001b[0;32m    199\u001b[0m \u001b[38;5;28mself\u001b[39m\u001b[38;5;241m.\u001b[39mvariables[\u001b[38;5;124m\"\u001b[39m\u001b[38;5;124mhue\u001b[39m\u001b[38;5;124m\"\u001b[39m] \u001b[38;5;241m=\u001b[39m \u001b[38;5;28mself\u001b[39m\u001b[38;5;241m.\u001b[39mvariables\u001b[38;5;241m.\u001b[39mget(\u001b[38;5;28mself\u001b[39m\u001b[38;5;241m.\u001b[39morient)\n\u001b[0;32m    200\u001b[0m \u001b[38;5;28mself\u001b[39m\u001b[38;5;241m.\u001b[39mvar_types[\u001b[38;5;124m\"\u001b[39m\u001b[38;5;124mhue\u001b[39m\u001b[38;5;124m\"\u001b[39m] \u001b[38;5;241m=\u001b[39m \u001b[38;5;28mself\u001b[39m\u001b[38;5;241m.\u001b[39mvar_types\u001b[38;5;241m.\u001b[39mget(\u001b[38;5;28mself\u001b[39m\u001b[38;5;241m.\u001b[39morient)\n",
      "File \u001b[1;32m~\\anaconda3\\Lib\\site-packages\\pandas\\core\\frame.py:4311\u001b[0m, in \u001b[0;36mDataFrame.__setitem__\u001b[1;34m(self, key, value)\u001b[0m\n\u001b[0;32m   4308\u001b[0m     \u001b[38;5;28mself\u001b[39m\u001b[38;5;241m.\u001b[39m_setitem_array([key], value)\n\u001b[0;32m   4309\u001b[0m \u001b[38;5;28;01melse\u001b[39;00m:\n\u001b[0;32m   4310\u001b[0m     \u001b[38;5;66;03m# set column\u001b[39;00m\n\u001b[1;32m-> 4311\u001b[0m     \u001b[38;5;28mself\u001b[39m\u001b[38;5;241m.\u001b[39m_set_item(key, value)\n",
      "File \u001b[1;32m~\\anaconda3\\Lib\\site-packages\\pandas\\core\\frame.py:4538\u001b[0m, in \u001b[0;36mDataFrame._set_item\u001b[1;34m(self, key, value)\u001b[0m\n\u001b[0;32m   4535\u001b[0m             value \u001b[38;5;241m=\u001b[39m np\u001b[38;5;241m.\u001b[39mtile(value, (\u001b[38;5;28mlen\u001b[39m(existing_piece\u001b[38;5;241m.\u001b[39mcolumns), \u001b[38;5;241m1\u001b[39m))\u001b[38;5;241m.\u001b[39mT\n\u001b[0;32m   4536\u001b[0m             refs \u001b[38;5;241m=\u001b[39m \u001b[38;5;28;01mNone\u001b[39;00m\n\u001b[1;32m-> 4538\u001b[0m \u001b[38;5;28mself\u001b[39m\u001b[38;5;241m.\u001b[39m_set_item_mgr(key, value, refs)\n",
      "File \u001b[1;32m~\\anaconda3\\Lib\\site-packages\\pandas\\core\\frame.py:4488\u001b[0m, in \u001b[0;36mDataFrame._set_item_mgr\u001b[1;34m(self, key, value, refs)\u001b[0m\n\u001b[0;32m   4485\u001b[0m     loc \u001b[38;5;241m=\u001b[39m \u001b[38;5;28mself\u001b[39m\u001b[38;5;241m.\u001b[39m_info_axis\u001b[38;5;241m.\u001b[39mget_loc(key)\n\u001b[0;32m   4486\u001b[0m \u001b[38;5;28;01mexcept\u001b[39;00m \u001b[38;5;167;01mKeyError\u001b[39;00m:\n\u001b[0;32m   4487\u001b[0m     \u001b[38;5;66;03m# This item wasn't present, just insert at end\u001b[39;00m\n\u001b[1;32m-> 4488\u001b[0m     \u001b[38;5;28mself\u001b[39m\u001b[38;5;241m.\u001b[39m_mgr\u001b[38;5;241m.\u001b[39minsert(\u001b[38;5;28mlen\u001b[39m(\u001b[38;5;28mself\u001b[39m\u001b[38;5;241m.\u001b[39m_info_axis), key, value, refs)\n\u001b[0;32m   4489\u001b[0m \u001b[38;5;28;01melse\u001b[39;00m:\n\u001b[0;32m   4490\u001b[0m     \u001b[38;5;28mself\u001b[39m\u001b[38;5;241m.\u001b[39m_iset_item_mgr(loc, value, refs\u001b[38;5;241m=\u001b[39mrefs)\n",
      "File \u001b[1;32m~\\anaconda3\\Lib\\site-packages\\pandas\\core\\internals\\managers.py:1360\u001b[0m, in \u001b[0;36mBlockManager.insert\u001b[1;34m(self, loc, item, value, refs)\u001b[0m\n\u001b[0;32m   1348\u001b[0m \u001b[38;5;250m\u001b[39m\u001b[38;5;124;03m\"\"\"\u001b[39;00m\n\u001b[0;32m   1349\u001b[0m \u001b[38;5;124;03mInsert item at selected position.\u001b[39;00m\n\u001b[0;32m   1350\u001b[0m \n\u001b[1;32m   (...)\u001b[0m\n\u001b[0;32m   1356\u001b[0m \u001b[38;5;124;03mrefs : The reference tracking object of the value to set.\u001b[39;00m\n\u001b[0;32m   1357\u001b[0m \u001b[38;5;124;03m\"\"\"\u001b[39;00m\n\u001b[0;32m   1358\u001b[0m \u001b[38;5;28;01mwith\u001b[39;00m warnings\u001b[38;5;241m.\u001b[39mcatch_warnings():\n\u001b[0;32m   1359\u001b[0m     \u001b[38;5;66;03m# TODO: re-issue this with setitem-specific message?\u001b[39;00m\n\u001b[1;32m-> 1360\u001b[0m     warnings\u001b[38;5;241m.\u001b[39mfilterwarnings(\n\u001b[0;32m   1361\u001b[0m         \u001b[38;5;124m\"\u001b[39m\u001b[38;5;124mignore\u001b[39m\u001b[38;5;124m\"\u001b[39m,\n\u001b[0;32m   1362\u001b[0m         \u001b[38;5;124m\"\u001b[39m\u001b[38;5;124mThe behavior of Index.insert with object-dtype is deprecated\u001b[39m\u001b[38;5;124m\"\u001b[39m,\n\u001b[0;32m   1363\u001b[0m         category\u001b[38;5;241m=\u001b[39m\u001b[38;5;167;01mFutureWarning\u001b[39;00m,\n\u001b[0;32m   1364\u001b[0m     )\n\u001b[0;32m   1365\u001b[0m     new_axis \u001b[38;5;241m=\u001b[39m \u001b[38;5;28mself\u001b[39m\u001b[38;5;241m.\u001b[39mitems\u001b[38;5;241m.\u001b[39minsert(loc, item)\n\u001b[0;32m   1367\u001b[0m \u001b[38;5;28;01mif\u001b[39;00m value\u001b[38;5;241m.\u001b[39mndim \u001b[38;5;241m==\u001b[39m \u001b[38;5;241m2\u001b[39m:\n",
      "\u001b[1;31mTypeError\u001b[0m: 'str' object is not callable"
     ]
    },
    {
     "data": {
      "image/png": "[encoded data removed]",
      "text/plain": [
       "<Figure size 640x480 with 1 Axes>"
      ]
     },
     "metadata": {},
     "output_type": "display_data"
    }
   ],
   "source": [
    "sns.violinplot(data=data, x=\"day\", y=\"total_bill\", palette=\"pastel\")"
   ]
  },
  {
   "cell_type": "code",
   "execution_count": null,
   "id": "12fefecd-8876-40bf-a383-f8fc0f89064d",
   "metadata": {},
   "outputs": [],
   "source": []
  }
 ],
 "metadata": {
  "kernelspec": {
   "display_name": "Python [conda env:base] *",
   "language": "python",
   "name": "conda-base-py"
  },
  "language_info": {
   "codemirror_mode": {
    "name": "ipython",
    "version": 3
   },
   "file_extension": ".py",
   "mimetype": "text/x-python",
   "name": "python",
   "nbconvert_exporter": "python",
   "pygments_lexer": "ipython3",
   "version": "3.12.7"
  }
 },
 "nbformat": 4,
 "nbformat_minor": 5
}
