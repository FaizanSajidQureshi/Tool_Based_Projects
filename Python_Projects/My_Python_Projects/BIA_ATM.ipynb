{
 "cells": [
  {
   "cell_type": "markdown",
   "id": "9a597f83-deeb-412f-859d-c07017712ec3",
   "metadata": {
    "jupyter": {
     "source_hidden": true
    }
   },
   "source": [
    "def BIA_ATM():\n",
    "    print('Welcome to BIA Bank ATM, Choose from the below option:\\n1.Check Balance\\n2.Withdraw\\n3.Deposit\\n4.Exit\\n<------------>')\n",
    "    user_input = input('Enter option')\n",
    "    user_input = int(user_input)\n",
    "    if user_input == 1:\n",
    "        print('Your Balance Is',Balance,'Rupees')\n",
    "        BIA_ATM()\n",
    "    elif user_input == 2:\n",
    "        Withdraw()\n",
    "    elif user_input == 3:\n",
    "        Deposit()\n",
    "    elif user_input == 4:\n",
    "        print('Thank You For Choosing Us')\n",
    "        BIA_ATM()"
   ]
  },
  {
   "cell_type": "markdown",
   "id": "c7a1e941-1b99-4425-b439-6c73a63cb2d8",
   "metadata": {
    "jupyter": {
     "source_hidden": true
    }
   },
   "source": [
    "def BIA_ATM():\n",
    "    print('Welcome to BIA Bank ATM, Please enter your bank account number')\n",
    "    user_input = input('Enter Account Number')\n",
    "    user_input = int(user_input)\n",
    "    if user_input == Account_Number:\n",
    "        print('Choose from the below option:\\n1.Check Balance\\n2.Withdraw\\n3.Deposit\\n4.Exit\\n<------------>')  \n",
    "        user_input = input('Enter Option')\n",
    "        user_input = int(user_input)\n",
    "        if user_input == 1:\n",
    "            print('Your Balance is',Balance,'rupees')\n",
    "            BIA_ATM()  \n",
    "        elif user_input == 2:\n",
    "            Withdraw()\n",
    "        elif user_input == 3:\n",
    "            Deposit()\n",
    "        elif user_input == 4:\n",
    "            print('Thank You For Choosing Us')\n",
    "            BIA_ATM()\n",
    "    else:\n",
    "        print('Error, Please Try Again')\n",
    "        BIA_ATM()          "
   ]
  },
  {
   "cell_type": "code",
   "execution_count": 1,
   "id": "5d31976b-f102-4b25-9b43-9fe0f01232b1",
   "metadata": {},
   "outputs": [],
   "source": [
    "Account_Number = 7715005177\n",
    "Balance = 1000\n",
    "PIN = 5049"
   ]
  },
  {
   "cell_type": "code",
   "execution_count": 2,
   "id": "29e7f6f3-4898-47fd-88d2-e64671a2c42c",
   "metadata": {},
   "outputs": [],
   "source": [
    "def Deposit():\n",
    "    deposit_amt = int(input('Enter amt'))\n",
    "    global Balance\n",
    "    Balance = Balance + deposit_amt\n",
    "    print('Sucessfully deposited{},current balance{}'.format(deposit_amt,Balance))\n",
    "    Options()"
   ]
  },
  {
   "cell_type": "code",
   "execution_count": 3,
   "id": "8f805b05-12e5-4e41-80e9-ce4145abf7c0",
   "metadata": {},
   "outputs": [],
   "source": [
    "def Withdraw():\n",
    "    withdrawn_amt = int(input('Enter amt'))\n",
    "    global Balance\n",
    "    Balance = Balance - withdrawn_amt\n",
    "    print('Sucessfully withdrawn{},current balance{}'.format(withdrawn_amt,Balance))\n",
    "    Options()"
   ]
  },
  {
   "cell_type": "code",
   "execution_count": 4,
   "id": "8c1fcef7-583f-4fae-a9e2-3024bc8cc6fc",
   "metadata": {},
   "outputs": [],
   "source": [
    "def Options():\n",
    "    print('Choose from the below option:\\n1.Check Balance\\n2.Withdraw\\n3.Deposit\\n4.Exit\\n<------------>') \n",
    "    user_input = input('Enter Option')\n",
    "    user_input = int(user_input)"
   ]
  },
  {
   "cell_type": "code",
   "execution_count": 16,
   "id": "81dc021a-c87b-40cb-9b23-2f364cb56598",
   "metadata": {},
   "outputs": [],
   "source": [
    "def BIA_ATM():\n",
    "    print('Welcome to BIA Bank ATM, Please enter your bank account number')\n",
    "    user_input = input('Enter Account Number')\n",
    "    user_input = int(user_input)\n",
    "    if user_input == Account_Number:\n",
    "        Options()\n",
    "        if user_input == 1:\n",
    "            print('Your Balance is',Balance,'rupees')\n",
    "        else:\n",
    "            print('Error')\n",
    "    else:\n",
    "        print('Error, Please Try Again')\n",
    "        BIA_ATM()          "
   ]
  },
  {
   "cell_type": "code",
   "execution_count": 17,
   "id": "3458c591-df39-444a-8a23-bd202200a9e2",
   "metadata": {},
   "outputs": [
    {
     "name": "stdout",
     "output_type": "stream",
     "text": [
      "Welcome to BIA Bank ATM, Please enter your bank account number\n"
     ]
    },
    {
     "name": "stdin",
     "output_type": "stream",
     "text": [
      "Enter Account Number 7715005177\n"
     ]
    },
    {
     "name": "stdout",
     "output_type": "stream",
     "text": [
      "Choose from the below option:\n",
      "1.Check Balance\n",
      "2.Withdraw\n",
      "3.Deposit\n",
      "4.Exit\n",
      "<------------>\n"
     ]
    },
    {
     "name": "stdin",
     "output_type": "stream",
     "text": [
      "Enter Option 1\n"
     ]
    },
    {
     "name": "stdout",
     "output_type": "stream",
     "text": [
      "Error\n"
     ]
    }
   ],
   "source": [
    "BIA_ATM()"
   ]
  },
  {
   "cell_type": "code",
   "execution_count": null,
   "id": "25608e88-2546-4ec9-8071-5ad86b8d78bd",
   "metadata": {},
   "outputs": [],
   "source": []
  }
 ],
 "metadata": {
  "kernelspec": {
   "display_name": "Python [conda env:base] *",
   "language": "python",
   "name": "conda-base-py"
  },
  "language_info": {
   "codemirror_mode": {
    "name": "ipython",
    "version": 3
   },
   "file_extension": ".py",
   "mimetype": "text/x-python",
   "name": "python",
   "nbconvert_exporter": "python",
   "pygments_lexer": "ipython3",
   "version": "3.12.7"
  }
 },
 "nbformat": 4,
 "nbformat_minor": 5
}
