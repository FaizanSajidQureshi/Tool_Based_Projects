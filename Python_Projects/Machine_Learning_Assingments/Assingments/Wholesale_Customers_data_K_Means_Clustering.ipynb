{
  "nbformat": 4,
  "nbformat_minor": 0,
  "metadata": {
    "colab": {
      "provenance": []
    },
    "kernelspec": {
      "name": "python3",
      "display_name": "Python 3"
    },
    "language_info": {
      "name": "python"
    }
  },
  "cells": [
    {
      "cell_type": "markdown",
      "source": [
        "**STEP 1: IMPORT LIBRARIES**"
      ],
      "metadata": {
        "id": "Boj4t-v5TOf7"
      }
    },
    {
      "cell_type": "code",
      "execution_count": 4,
      "metadata": {
        "id": "h5nFzZAPRBCo"
      },
      "outputs": [],
      "source": [
        "import pandas as pd\n",
        "import numpy as np\n",
        "import matplotlib.pyplot as plt\n",
        "from sklearn.preprocessing import StandardScaler\n",
        "from sklearn.cluster import KMeans, AgglomerativeClustering\n",
        "from sklearn.metrics import silhouette_score"
      ]
    },
    {
      "cell_type": "markdown",
      "source": [
        "**STEP 2: LOAD AND INSPECT DATA**"
      ],
      "metadata": {
        "id": "6L69AYhDTdT9"
      }
    },
    {
      "cell_type": "code",
      "source": [
        "data = pd.read_csv('Wholesale-customers-data.csv')"
      ],
      "metadata": {
        "id": "v9o0V8EsSSEW"
      },
      "execution_count": 5,
      "outputs": []
    },
    {
      "cell_type": "code",
      "source": [
        "print(data.head())\n",
        "print(data.info())"
      ],
      "metadata": {
        "colab": {
          "base_uri": "https://localhost:8080/"
        },
        "id": "qXHr8I2ETMpA",
        "outputId": "672a629b-67ea-49f8-abf4-f950d2510e52"
      },
      "execution_count": 7,
      "outputs": [
        {
          "output_type": "stream",
          "name": "stdout",
          "text": [
            "   Channel  Region  Fresh  Milk  Grocery  Frozen  Detergents_Paper  Delicassen\n",
            "0        2       3  12669  9656     7561     214              2674        1338\n",
            "1        2       3   7057  9810     9568    1762              3293        1776\n",
            "2        2       3   6353  8808     7684    2405              3516        7844\n",
            "3        1       3  13265  1196     4221    6404               507        1788\n",
            "4        2       3  22615  5410     7198    3915              1777        5185\n",
            "<class 'pandas.core.frame.DataFrame'>\n",
            "RangeIndex: 440 entries, 0 to 439\n",
            "Data columns (total 8 columns):\n",
            " #   Column            Non-Null Count  Dtype\n",
            "---  ------            --------------  -----\n",
            " 0   Channel           440 non-null    int64\n",
            " 1   Region            440 non-null    int64\n",
            " 2   Fresh             440 non-null    int64\n",
            " 3   Milk              440 non-null    int64\n",
            " 4   Grocery           440 non-null    int64\n",
            " 5   Frozen            440 non-null    int64\n",
            " 6   Detergents_Paper  440 non-null    int64\n",
            " 7   Delicassen        440 non-null    int64\n",
            "dtypes: int64(8)\n",
            "memory usage: 27.6 KB\n",
            "None\n"
          ]
        }
      ]
    },
    {
      "cell_type": "markdown",
      "source": [
        "**STEP 3: DATA PREPROCESSING**"
      ],
      "metadata": {
        "id": "SrACwlZAUKKQ"
      }
    },
    {
      "cell_type": "code",
      "source": [
        "X = data.drop(['Channel', 'Region'], axis=1)\n",
        "\n",
        "scaler = StandardScaler()\n",
        "X_scaled = scaler.fit_transform(X)"
      ],
      "metadata": {
        "id": "-0LmaZ8mTxJP"
      },
      "execution_count": 9,
      "outputs": []
    },
    {
      "cell_type": "markdown",
      "source": [
        "**STEP 4: ELBOW METHOD**"
      ],
      "metadata": {
        "id": "N30e526vVu90"
      }
    },
    {
      "cell_type": "code",
      "source": [
        "inertia = []\n",
        "K_range = range(1, 11)\n",
        "\n",
        "for k in K_range:\n",
        "    kmeans = KMeans(n_clusters=k, random_state=42)\n",
        "    kmeans.fit(X_scaled)\n",
        "    inertia.append(kmeans.inertia_)\n",
        "\n",
        "plt.plot(K_range, inertia, 'bx-')\n",
        "plt.xlabel('k')\n",
        "plt.ylabel('Inertia')\n",
        "plt.title('Elbow Method for Optimal k')\n",
        "plt.show()"
      ],
      "metadata": {
        "colab": {
          "base_uri": "https://localhost:8080/",
          "height": 472
        },
        "id": "lO2NRhahVj7t",
        "outputId": "33f4991b-5cac-4dc1-dc7c-f736190890aa"
      },
      "execution_count": 11,
      "outputs": [
        {
          "output_type": "display_data",
          "data": {
            "text/plain": [
              "<Figure size 640x480 with 1 Axes>"
            ],
            "image/png": "[encoded data removed]"
          },
          "metadata": {}
        }
      ]
    },
    {
      "cell_type": "markdown",
      "source": [
        "**STEP 5: K_MEANS CLUSTERING**"
      ],
      "metadata": {
        "id": "BzcjqhOTXcfG"
      }
    },
    {
      "cell_type": "code",
      "source": [
        "kmeans = KMeans(n_clusters=3, random_state=42)\n",
        "data['Cluster'] = kmeans.fit_predict(X_scaled)"
      ],
      "metadata": {
        "id": "cWW2qA6dXRzs"
      },
      "execution_count": 14,
      "outputs": []
    },
    {
      "cell_type": "markdown",
      "source": [
        "**STEP 6: HIERARCHICAL CLUSTERING**"
      ],
      "metadata": {
        "id": "yVjYGDp8Z4oS"
      }
    },
    {
      "cell_type": "code",
      "source": [
        "hier = AgglomerativeClustering(n_clusters=3, linkage='ward')\n",
        "data['Agg_Cluster'] = hier.fit_predict(X_scaled)"
      ],
      "metadata": {
        "id": "EhS40JAqZzUe"
      },
      "execution_count": 16,
      "outputs": []
    },
    {
      "cell_type": "markdown",
      "source": [
        "**STEP 7: CLUSTER EVALUATION**"
      ],
      "metadata": {
        "id": "81aYu0NoalCp"
      }
    },
    {
      "cell_type": "code",
      "source": [
        "sil_score = silhouette_score(X_scaled, data['Cluster'])\n",
        "print(\"Silhouette Score for K-means:\", sil_score)"
      ],
      "metadata": {
        "colab": {
          "base_uri": "https://localhost:8080/"
        },
        "id": "L_HmHghaaLTW",
        "outputId": "1077833b-1d64-4fcb-b23c-7153fdcaf211"
      },
      "execution_count": 17,
      "outputs": [
        {
          "output_type": "stream",
          "name": "stdout",
          "text": [
            "Silhouette Score for K-means: 0.4582633767207058\n"
          ]
        }
      ]
    },
    {
      "cell_type": "markdown",
      "source": [
        "**STEP 8: ANALYZE CLUSTERS**"
      ],
      "metadata": {
        "id": "ViHxhoRXbOwU"
      }
    },
    {
      "cell_type": "code",
      "source": [
        "print(data.groupby('Cluster').mean())\n",
        "print(data.groupby('Agg_Cluster').mean())"
      ],
      "metadata": {
        "colab": {
          "base_uri": "https://localhost:8080/"
        },
        "id": "JeACU1XxbLwz",
        "outputId": "52a48df1-35e5-4d47-ab40-8cb987f72f7b"
      },
      "execution_count": 18,
      "outputs": [
        {
          "output_type": "stream",
          "name": "stdout",
          "text": [
            "          Channel    Region         Fresh          Milk       Grocery  \\\n",
            "Cluster                                                                 \n",
            "0        1.282857  2.534286   8935.500000   4228.528571   5848.034286   \n",
            "1        1.113208  2.698113  34540.113208   5860.358491   6122.622642   \n",
            "2        2.000000  2.405405   8704.864865  20534.405405  30466.243243   \n",
            "\n",
            "              Frozen  Detergents_Paper   Delicassen  Agg_Cluster  \n",
            "Cluster                                                           \n",
            "0        2167.231429       1913.605714  1102.120000     1.342857  \n",
            "1        9841.735849        981.471698  3664.245283     1.018868  \n",
            "2        1932.621622      14758.837838  2459.351351     1.702703  \n",
            "              Channel    Region         Fresh          Milk       Grocery  \\\n",
            "Agg_Cluster                                                                 \n",
            "0            1.833333  2.833333  27477.000000  43542.166667  54588.500000   \n",
            "1            1.085409  2.533808  15048.932384   3017.298932   3791.761566   \n",
            "2            1.738562  2.549020   5794.241830   9419.888889  13761.738562   \n",
            "\n",
            "                  Frozen  Detergents_Paper    Delicassen   Cluster  \n",
            "Agg_Cluster                                                         \n",
            "0            8285.666667      25018.333333  10247.833333  1.833333  \n",
            "1            3837.316726        758.007117   1309.900356  0.185053  \n",
            "2            1461.764706       5913.379085   1577.607843  0.418301  \n"
          ]
        }
      ]
    }
  ]
}