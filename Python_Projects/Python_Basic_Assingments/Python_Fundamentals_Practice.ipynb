{
 "cells": [
  {
   "cell_type": "code",
   "execution_count": 3,
   "id": "d7b5a58d-3858-47aa-acf1-98f914406c1e",
   "metadata": {},
   "outputs": [],
   "source": [
    "a = 10\n",
    "b = 300\n",
    "x = 25"
   ]
  },
  {
   "cell_type": "code",
   "execution_count": 11,
   "id": "13776218-d39f-4124-b043-4ab91554adc3",
   "metadata": {},
   "outputs": [],
   "source": [
    "z = b-(a*a)+b/x"
   ]
  },
  {
   "cell_type": "code",
   "execution_count": 16,
   "id": "6babda78-c373-4e10-ae3a-d36106dfc774",
   "metadata": {},
   "outputs": [],
   "source": [
    "if z>500:\n",
    "    print('Wrong')"
   ]
  },
  {
   "cell_type": "code",
   "execution_count": 20,
   "id": "1a99a6f4-6024-43ae-a524-cd4e91b5ee9b",
   "metadata": {},
   "outputs": [
    {
     "name": "stdout",
     "output_type": "stream",
     "text": [
      "212.0\n"
     ]
    }
   ],
   "source": [
    "print(z)"
   ]
  },
  {
   "cell_type": "code",
   "execution_count": 23,
   "id": "e4ef1e94-7cd1-4ebf-bb92-92eef1d9e6be",
   "metadata": {},
   "outputs": [
    {
     "name": "stdout",
     "output_type": "stream",
     "text": [
      "0\n",
      "1\n",
      "2\n",
      "3\n",
      "4\n"
     ]
    }
   ],
   "source": [
    "for i in range(5):\n",
    "    print(i)"
   ]
  },
  {
   "cell_type": "code",
   "execution_count": 24,
   "id": "ff3c7cab-1278-46b3-8442-59c8d579c8c0",
   "metadata": {},
   "outputs": [],
   "source": [
    "import keyword"
   ]
  },
  {
   "cell_type": "code",
   "execution_count": 26,
   "id": "918b5138-0aaa-4cc8-8892-9d7fd07e34b0",
   "metadata": {},
   "outputs": [
    {
     "name": "stdout",
     "output_type": "stream",
     "text": [
      "['False', 'None', 'True', 'and', 'as', 'assert', 'async', 'await', 'break', 'class', 'continue', 'def', 'del', 'elif', 'else', 'except', 'finally', 'for', 'from', 'global', 'if', 'import', 'in', 'is', 'lambda', 'nonlocal', 'not', 'or', 'pass', 'raise', 'return', 'try', 'while', 'with', 'yield']\n"
     ]
    }
   ],
   "source": [
    "print(keyword.kwlist)"
   ]
  },
  {
   "cell_type": "code",
   "execution_count": 32,
   "id": "799e3524-915f-4515-a2b6-926f2cc1e54e",
   "metadata": {},
   "outputs": [],
   "source": [
    "sent = 'shukr alhamdullilah for everything'"
   ]
  },
  {
   "cell_type": "code",
   "execution_count": 33,
   "id": "303c7d09-caa0-457e-9971-2f2513d5e553",
   "metadata": {},
   "outputs": [],
   "source": [
    "words = sent.split()"
   ]
  },
  {
   "cell_type": "code",
   "execution_count": 34,
   "id": "7a51a17e-e4cc-4dff-8ceb-0a8e3e838ecc",
   "metadata": {},
   "outputs": [
    {
     "name": "stdout",
     "output_type": "stream",
     "text": [
      "['shukr', 'alhamdullilah', 'for', 'everything']\n"
     ]
    }
   ],
   "source": [
    "print(words)"
   ]
  },
  {
   "cell_type": "code",
   "execution_count": 40,
   "id": "34b4d77c-ed64-426c-a625-18745149f6e4",
   "metadata": {},
   "outputs": [],
   "source": [
    "one_words = \" \".join(words)"
   ]
  },
  {
   "cell_type": "code",
   "execution_count": 41,
   "id": "1183b61a-a772-4a43-a230-487bbbf8f475",
   "metadata": {},
   "outputs": [
    {
     "name": "stdout",
     "output_type": "stream",
     "text": [
      "shukr alhamdullilah for everything\n"
     ]
    }
   ],
   "source": [
    "print(one_words)"
   ]
  },
  {
   "cell_type": "code",
   "execution_count": 42,
   "id": "4611a6a7-80a3-40fa-aea0-a041706be4f6",
   "metadata": {},
   "outputs": [
    {
     "data": {
      "text/plain": [
       "2"
      ]
     },
     "execution_count": 42,
     "metadata": {},
     "output_type": "execute_result"
    }
   ],
   "source": [
    "12//5"
   ]
  },
  {
   "cell_type": "code",
   "execution_count": 44,
   "id": "7f34bb78-1b39-463a-88b3-53e8170223fa",
   "metadata": {},
   "outputs": [],
   "source": [
    "x=5\n",
    "y='2'\n",
    "r=x*y"
   ]
  },
  {
   "cell_type": "code",
   "execution_count": 46,
   "id": "591c3af1-98ad-42ab-889a-582644451bc3",
   "metadata": {},
   "outputs": [
    {
     "name": "stdout",
     "output_type": "stream",
     "text": [
      "22222\n"
     ]
    }
   ],
   "source": [
    "print(r)"
   ]
  },
  {
   "cell_type": "code",
   "execution_count": 48,
   "id": "d3289d7a-98d3-47b7-bb36-dcc195e8aff2",
   "metadata": {},
   "outputs": [
    {
     "name": "stdout",
     "output_type": "stream",
     "text": [
      "[5, 2, 3]\n"
     ]
    }
   ],
   "source": [
    "a=[1,2,3]\n",
    "b=a\n",
    "b[0]=5\n",
    "print(a)"
   ]
  },
  {
   "cell_type": "code",
   "execution_count": 49,
   "id": "f6f32550-c54b-45ea-bad4-56d1727f4d0a",
   "metadata": {
    "collapsed": true,
    "jupyter": {
     "outputs_hidden": true
    },
    "scrolled": true
   },
   "outputs": [
    {
     "ename": "TypeError",
     "evalue": "unsupported operand type(s) for +: 'int' and 'str'",
     "output_type": "error",
     "traceback": [
      "\u001b[1;31m---------------------------------------------------------------------------\u001b[0m",
      "\u001b[1;31mTypeError\u001b[0m                                 Traceback (most recent call last)",
      "Cell \u001b[1;32mIn[49], line 1\u001b[0m\n\u001b[1;32m----> 1\u001b[0m s\u001b[38;5;241m=\u001b[39m\u001b[38;5;241m3\u001b[39m\u001b[38;5;241m+\u001b[39m\u001b[38;5;124m'\u001b[39m\u001b[38;5;124m5\u001b[39m\u001b[38;5;124m'\u001b[39m\n",
      "\u001b[1;31mTypeError\u001b[0m: unsupported operand type(s) for +: 'int' and 'str'"
     ]
    }
   ],
   "source": [
    "s=3+'5'"
   ]
  }
 ],
 "metadata": {
  "kernelspec": {
   "display_name": "Python [conda env:base] *",
   "language": "python",
   "name": "conda-base-py"
  },
  "language_info": {
   "codemirror_mode": {
    "name": "ipython",
    "version": 3
   },
   "file_extension": ".py",
   "mimetype": "text/x-python",
   "name": "python",
   "nbconvert_exporter": "python",
   "pygments_lexer": "ipython3",
   "version": "3.12.7"
  }
 },
 "nbformat": 4,
 "nbformat_minor": 5
}
