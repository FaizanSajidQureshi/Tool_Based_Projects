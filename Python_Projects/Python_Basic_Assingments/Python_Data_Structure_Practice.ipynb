{
 "cells": [
  {
   "cell_type": "markdown",
   "id": "cf5d951f-ee14-4cc3-b6b0-a9d14205fac7",
   "metadata": {},
   "source": [
    "Q1. PASSWORD GENERATOR PROGRAM"
   ]
  },
  {
   "cell_type": "code",
   "execution_count": 6,
   "id": "ff212004-5f95-48a6-8f84-360f9df0ac78",
   "metadata": {
    "collapsed": true,
    "jupyter": {
     "outputs_hidden": true,
     "source_hidden": true
    }
   },
   "outputs": [
    {
     "name": "stdout",
     "output_type": "stream",
     "text": [
      "Simple Password: lc0l^!1=\n",
      "Medium Password: nii2xo=5qlp~\n",
      "Complex Password: x3hnai*-s#a-~cp5\n"
     ]
    }
   ],
   "source": [
    "import random\n",
    "import string\n",
    "\n",
    "def i_pass_generater(length):\n",
    "    l_case = string.ascii_lowercase\n",
    "    u_case = string.ascii_lowercase\n",
    "    dgts = string.digits\n",
    "    spl_chars = string.punctuation\n",
    "    all_chars = l_case + u_case + dgts + spl_chars\n",
    "    pwd = ''.join(random.choice(all_chars) for _ in range(length))\n",
    "    return pwd\n",
    "\n",
    "simple_password = i_pass_generater(8)\n",
    "medium_password = i_pass_generater(12)\n",
    "complex_password = i_pass_generater(16)\n",
    "\n",
    "print(\"Simple Password:\", simple_password)\n",
    "print(\"Medium Password:\", medium_password)\n",
    "print(\"Complex Password:\", complex_password)"
   ]
  },
  {
   "cell_type": "markdown",
   "id": "6fd87949-7d91-4f51-8cf2-37ab83fee4de",
   "metadata": {},
   "source": [
    "Q2. INVENTORY MANAGEMENT PROGRAM"
   ]
  },
  {
   "cell_type": "code",
   "execution_count": 10,
   "id": "80b901ff-bcd9-430d-a97b-2af7f36befb9",
   "metadata": {
    "collapsed": true,
    "jupyter": {
     "outputs_hidden": true,
     "source_hidden": true
    }
   },
   "outputs": [
    {
     "name": "stdout",
     "output_type": "stream",
     "text": [
      "Current Inventory:\n",
      "Laptop - Quantity: 10, Price: $800\n",
      "Smartphone - Quantity: 20, Price: $400\n",
      "Headphones - Quantity: 30, Price: $50\n",
      "\n",
      "Updated Inventory:\n",
      "Current Inventory:\n",
      "Laptop - Quantity: 8, Price: $800\n",
      "Smartphone - Quantity: 20, Price: $400\n",
      "Headphones - Quantity: 30, Price: $50\n"
     ]
    }
   ],
   "source": [
    "inventory = []\n",
    "\n",
    "def add_product(product_name, quantity, price):\n",
    "    prdct = {\"name\": product_name, \"quantity\": quantity, \"price\": price}\n",
    "    inventory.append(prdct)\n",
    "\n",
    "def update_quantity(product_name, new_quantity):\n",
    "    for prdct in inventory:\n",
    "        if prdct[\"name\"] == product_name:\n",
    "            prdct[\"quantity\"] = new_quantity\n",
    "            break\n",
    "\n",
    "def display_inventory():\n",
    "    print(\"Current Inventory:\")\n",
    "    for prdct in inventory:\n",
    "        print(f\"{prdct['name']} - Quantity: {prdct['quantity']}, Price: ${prdct['price']}\")\n",
    "\n",
    "add_product(\"Laptop\", 10, 800)\n",
    "add_product(\"Smartphone\", 20, 400)\n",
    "add_product(\"Headphones\", 30, 50)\n",
    "\n",
    "display_inventory()\n",
    "update_quantity(\"Laptop\", 8)\n",
    "print(\"\\nUpdated Inventory:\")\n",
    "display_inventory()"
   ]
  },
  {
   "cell_type": "markdown",
   "id": "eafef462-244b-444e-a360-43b9ad0a12ed",
   "metadata": {},
   "source": [
    "Q3. MOVIE DATABASE PROGRAM"
   ]
  },
  {
   "cell_type": "code",
   "execution_count": 21,
   "id": "74c76465-96fd-4897-b692-81ffd1053058",
   "metadata": {
    "jupyter": {
     "source_hidden": true
    }
   },
   "outputs": [],
   "source": [
    "mcu_database = []\n",
    "def add_movie(title, director, year, genre):\n",
    "    movie = {\"title\": title, \"director\": director, \"year\": year, \"genre\": genre}\n",
    "    mcu_database.append(movie)\n",
    "\n",
    "def srch_movie_by_title(title):\n",
    "    return [movie for movie in mcu_database if movie[\"title\"] == title]\n",
    "\n",
    "def dsply_movie_by_genre(genre):\n",
    "    print(f\"Movies in {genre} genre:\")\n",
    "    for movie in mcu_database:\n",
    "        if movie[\"genre\"] == genre:\n",
    "            print(f\"{movie['title']} ({movie['year']})\")\n",
    "        print()"
   ]
  },
  {
   "cell_type": "code",
   "execution_count": 27,
   "id": "b7b27a5c-a99c-4e60-9578-54eef2c25c79",
   "metadata": {
    "collapsed": true,
    "jupyter": {
     "outputs_hidden": true,
     "source_hidden": true
    }
   },
   "outputs": [
    {
     "name": "stdout",
     "output_type": "stream",
     "text": [
      "[{'title': 'The_Avengers', 'director': 'Joss_Whedon', 'year': '2012', 'genre': 'Action, Sci-Fi'}, {'title': 'The_Avengers', 'director': 'Joss_Whedon', 'year': '2012', 'genre': 'Action, Sci-Fi'}, {'title': 'Avengers: Age_Of_Ultron', 'director': 'Joss_Whedon', 'year': '2015', 'genre': 'Action, Sci-Fi'}, {'title': 'The_Avengers', 'director': 'Joss_Whedon', 'year': '2012', 'genre': 'Action, Sci-Fi'}, {'title': 'Avengers: Age_Of_Ultron', 'director': 'Joss_Whedon', 'year': '2015', 'genre': 'Action, Sci-Fi'}, {'title': 'Avengers: Infinity_War', 'director': 'Russo_Brothers', 'year': '2018', 'genre': 'Action, Sci-Fi'}, {'title': 'The_Avengers', 'director': 'Joss_Whedon', 'year': '2012', 'genre': 'Action, Sci-Fi'}, {'title': 'Avengers: Age_Of_Ultron', 'director': 'Joss_Whedon', 'year': '2015', 'genre': 'Action, Sci-Fi'}, {'title': 'Avengers: Infinity_War', 'director': 'Russo_Brothers', 'year': '2018', 'genre': 'Action, Sci-Fi'}, {'title': 'Avengers: Endgame', 'director': 'Russo_Brothers', 'year': '2019', 'genre': 'Action, Sci-Fi'}, {'title': 'Avengers: Doomsday', 'director': 'Russo_Brothers', 'year': '2026', 'genre': 'Action, Sci-Fi'}, {'title': 'Avengers: Secret_Wars', 'director': 'Russo_Brothers', 'year': '2027', 'genre': 'Action, Sci-Fi'}, {'title': 'The_Avengers', 'director': 'Joss_Whedon', 'year': '2012', 'genre': 'Action, Sci-Fi'}]\n",
      "[{'title': 'The_Avengers', 'director': 'Joss_Whedon', 'year': '2012', 'genre': 'Action, Sci-Fi'}, {'title': 'The_Avengers', 'director': 'Joss_Whedon', 'year': '2012', 'genre': 'Action, Sci-Fi'}, {'title': 'Avengers: Age_Of_Ultron', 'director': 'Joss_Whedon', 'year': '2015', 'genre': 'Action, Sci-Fi'}, {'title': 'The_Avengers', 'director': 'Joss_Whedon', 'year': '2012', 'genre': 'Action, Sci-Fi'}, {'title': 'Avengers: Age_Of_Ultron', 'director': 'Joss_Whedon', 'year': '2015', 'genre': 'Action, Sci-Fi'}, {'title': 'Avengers: Infinity_War', 'director': 'Russo_Brothers', 'year': '2018', 'genre': 'Action, Sci-Fi'}, {'title': 'The_Avengers', 'director': 'Joss_Whedon', 'year': '2012', 'genre': 'Action, Sci-Fi'}, {'title': 'Avengers: Age_Of_Ultron', 'director': 'Joss_Whedon', 'year': '2015', 'genre': 'Action, Sci-Fi'}, {'title': 'Avengers: Infinity_War', 'director': 'Russo_Brothers', 'year': '2018', 'genre': 'Action, Sci-Fi'}, {'title': 'Avengers: Endgame', 'director': 'Russo_Brothers', 'year': '2019', 'genre': 'Action, Sci-Fi'}, {'title': 'Avengers: Doomsday', 'director': 'Russo_Brothers', 'year': '2026', 'genre': 'Action, Sci-Fi'}, {'title': 'Avengers: Secret_Wars', 'director': 'Russo_Brothers', 'year': '2027', 'genre': 'Action, Sci-Fi'}, {'title': 'The_Avengers', 'director': 'Joss_Whedon', 'year': '2012', 'genre': 'Action, Sci-Fi'}, {'title': 'Avengers: Age_Of_Ultron', 'director': 'Joss_Whedon', 'year': '2015', 'genre': 'Action, Sci-Fi'}]\n",
      "[{'title': 'The_Avengers', 'director': 'Joss_Whedon', 'year': '2012', 'genre': 'Action, Sci-Fi'}, {'title': 'The_Avengers', 'director': 'Joss_Whedon', 'year': '2012', 'genre': 'Action, Sci-Fi'}, {'title': 'Avengers: Age_Of_Ultron', 'director': 'Joss_Whedon', 'year': '2015', 'genre': 'Action, Sci-Fi'}, {'title': 'The_Avengers', 'director': 'Joss_Whedon', 'year': '2012', 'genre': 'Action, Sci-Fi'}, {'title': 'Avengers: Age_Of_Ultron', 'director': 'Joss_Whedon', 'year': '2015', 'genre': 'Action, Sci-Fi'}, {'title': 'Avengers: Infinity_War', 'director': 'Russo_Brothers', 'year': '2018', 'genre': 'Action, Sci-Fi'}, {'title': 'The_Avengers', 'director': 'Joss_Whedon', 'year': '2012', 'genre': 'Action, Sci-Fi'}, {'title': 'Avengers: Age_Of_Ultron', 'director': 'Joss_Whedon', 'year': '2015', 'genre': 'Action, Sci-Fi'}, {'title': 'Avengers: Infinity_War', 'director': 'Russo_Brothers', 'year': '2018', 'genre': 'Action, Sci-Fi'}, {'title': 'Avengers: Endgame', 'director': 'Russo_Brothers', 'year': '2019', 'genre': 'Action, Sci-Fi'}, {'title': 'Avengers: Doomsday', 'director': 'Russo_Brothers', 'year': '2026', 'genre': 'Action, Sci-Fi'}, {'title': 'Avengers: Secret_Wars', 'director': 'Russo_Brothers', 'year': '2027', 'genre': 'Action, Sci-Fi'}, {'title': 'The_Avengers', 'director': 'Joss_Whedon', 'year': '2012', 'genre': 'Action, Sci-Fi'}, {'title': 'Avengers: Age_Of_Ultron', 'director': 'Joss_Whedon', 'year': '2015', 'genre': 'Action, Sci-Fi'}, {'title': 'Avengers: Infinity_War', 'director': 'Russo_Brothers', 'year': '2018', 'genre': 'Action, Sci-Fi'}]\n",
      "[{'title': 'The_Avengers', 'director': 'Joss_Whedon', 'year': '2012', 'genre': 'Action, Sci-Fi'}, {'title': 'The_Avengers', 'director': 'Joss_Whedon', 'year': '2012', 'genre': 'Action, Sci-Fi'}, {'title': 'Avengers: Age_Of_Ultron', 'director': 'Joss_Whedon', 'year': '2015', 'genre': 'Action, Sci-Fi'}, {'title': 'The_Avengers', 'director': 'Joss_Whedon', 'year': '2012', 'genre': 'Action, Sci-Fi'}, {'title': 'Avengers: Age_Of_Ultron', 'director': 'Joss_Whedon', 'year': '2015', 'genre': 'Action, Sci-Fi'}, {'title': 'Avengers: Infinity_War', 'director': 'Russo_Brothers', 'year': '2018', 'genre': 'Action, Sci-Fi'}, {'title': 'The_Avengers', 'director': 'Joss_Whedon', 'year': '2012', 'genre': 'Action, Sci-Fi'}, {'title': 'Avengers: Age_Of_Ultron', 'director': 'Joss_Whedon', 'year': '2015', 'genre': 'Action, Sci-Fi'}, {'title': 'Avengers: Infinity_War', 'director': 'Russo_Brothers', 'year': '2018', 'genre': 'Action, Sci-Fi'}, {'title': 'Avengers: Endgame', 'director': 'Russo_Brothers', 'year': '2019', 'genre': 'Action, Sci-Fi'}, {'title': 'Avengers: Doomsday', 'director': 'Russo_Brothers', 'year': '2026', 'genre': 'Action, Sci-Fi'}, {'title': 'Avengers: Secret_Wars', 'director': 'Russo_Brothers', 'year': '2027', 'genre': 'Action, Sci-Fi'}, {'title': 'The_Avengers', 'director': 'Joss_Whedon', 'year': '2012', 'genre': 'Action, Sci-Fi'}, {'title': 'Avengers: Age_Of_Ultron', 'director': 'Joss_Whedon', 'year': '2015', 'genre': 'Action, Sci-Fi'}, {'title': 'Avengers: Infinity_War', 'director': 'Russo_Brothers', 'year': '2018', 'genre': 'Action, Sci-Fi'}, {'title': 'Avengers: Endgame', 'director': 'Russo_Brothers', 'year': '2019', 'genre': 'Action, Sci-Fi'}]\n",
      "[{'title': 'The_Avengers', 'director': 'Joss_Whedon', 'year': '2012', 'genre': 'Action, Sci-Fi'}, {'title': 'The_Avengers', 'director': 'Joss_Whedon', 'year': '2012', 'genre': 'Action, Sci-Fi'}, {'title': 'Avengers: Age_Of_Ultron', 'director': 'Joss_Whedon', 'year': '2015', 'genre': 'Action, Sci-Fi'}, {'title': 'The_Avengers', 'director': 'Joss_Whedon', 'year': '2012', 'genre': 'Action, Sci-Fi'}, {'title': 'Avengers: Age_Of_Ultron', 'director': 'Joss_Whedon', 'year': '2015', 'genre': 'Action, Sci-Fi'}, {'title': 'Avengers: Infinity_War', 'director': 'Russo_Brothers', 'year': '2018', 'genre': 'Action, Sci-Fi'}, {'title': 'The_Avengers', 'director': 'Joss_Whedon', 'year': '2012', 'genre': 'Action, Sci-Fi'}, {'title': 'Avengers: Age_Of_Ultron', 'director': 'Joss_Whedon', 'year': '2015', 'genre': 'Action, Sci-Fi'}, {'title': 'Avengers: Infinity_War', 'director': 'Russo_Brothers', 'year': '2018', 'genre': 'Action, Sci-Fi'}, {'title': 'Avengers: Endgame', 'director': 'Russo_Brothers', 'year': '2019', 'genre': 'Action, Sci-Fi'}, {'title': 'Avengers: Doomsday', 'director': 'Russo_Brothers', 'year': '2026', 'genre': 'Action, Sci-Fi'}, {'title': 'Avengers: Secret_Wars', 'director': 'Russo_Brothers', 'year': '2027', 'genre': 'Action, Sci-Fi'}, {'title': 'The_Avengers', 'director': 'Joss_Whedon', 'year': '2012', 'genre': 'Action, Sci-Fi'}, {'title': 'Avengers: Age_Of_Ultron', 'director': 'Joss_Whedon', 'year': '2015', 'genre': 'Action, Sci-Fi'}, {'title': 'Avengers: Infinity_War', 'director': 'Russo_Brothers', 'year': '2018', 'genre': 'Action, Sci-Fi'}, {'title': 'Avengers: Endgame', 'director': 'Russo_Brothers', 'year': '2019', 'genre': 'Action, Sci-Fi'}, {'title': 'Avengers: Doomsday', 'director': 'Russo_Brothers', 'year': '2026', 'genre': 'Action, Sci-Fi'}]\n",
      "[{'title': 'The_Avengers', 'director': 'Joss_Whedon', 'year': '2012', 'genre': 'Action, Sci-Fi'}, {'title': 'The_Avengers', 'director': 'Joss_Whedon', 'year': '2012', 'genre': 'Action, Sci-Fi'}, {'title': 'Avengers: Age_Of_Ultron', 'director': 'Joss_Whedon', 'year': '2015', 'genre': 'Action, Sci-Fi'}, {'title': 'The_Avengers', 'director': 'Joss_Whedon', 'year': '2012', 'genre': 'Action, Sci-Fi'}, {'title': 'Avengers: Age_Of_Ultron', 'director': 'Joss_Whedon', 'year': '2015', 'genre': 'Action, Sci-Fi'}, {'title': 'Avengers: Infinity_War', 'director': 'Russo_Brothers', 'year': '2018', 'genre': 'Action, Sci-Fi'}, {'title': 'The_Avengers', 'director': 'Joss_Whedon', 'year': '2012', 'genre': 'Action, Sci-Fi'}, {'title': 'Avengers: Age_Of_Ultron', 'director': 'Joss_Whedon', 'year': '2015', 'genre': 'Action, Sci-Fi'}, {'title': 'Avengers: Infinity_War', 'director': 'Russo_Brothers', 'year': '2018', 'genre': 'Action, Sci-Fi'}, {'title': 'Avengers: Endgame', 'director': 'Russo_Brothers', 'year': '2019', 'genre': 'Action, Sci-Fi'}, {'title': 'Avengers: Doomsday', 'director': 'Russo_Brothers', 'year': '2026', 'genre': 'Action, Sci-Fi'}, {'title': 'Avengers: Secret_Wars', 'director': 'Russo_Brothers', 'year': '2027', 'genre': 'Action, Sci-Fi'}, {'title': 'The_Avengers', 'director': 'Joss_Whedon', 'year': '2012', 'genre': 'Action, Sci-Fi'}, {'title': 'Avengers: Age_Of_Ultron', 'director': 'Joss_Whedon', 'year': '2015', 'genre': 'Action, Sci-Fi'}, {'title': 'Avengers: Infinity_War', 'director': 'Russo_Brothers', 'year': '2018', 'genre': 'Action, Sci-Fi'}, {'title': 'Avengers: Endgame', 'director': 'Russo_Brothers', 'year': '2019', 'genre': 'Action, Sci-Fi'}, {'title': 'Avengers: Doomsday', 'director': 'Russo_Brothers', 'year': '2026', 'genre': 'Action, Sci-Fi'}, {'title': 'Avengers: Secret_Wars', 'director': 'Russo_Brothers', 'year': '2027', 'genre': 'Action, Sci-Fi'}]\n"
     ]
    }
   ],
   "source": [
    "add_movie(\"The_Avengers\", \"Joss_Whedon\", \"2012\", \"Action, Sci-Fi\")\n",
    "print(mcu_database)\n",
    "add_movie(\"Avengers: Age_Of_Ultron\", \"Joss_Whedon\", \"2015\", \"Action, Sci-Fi\")\n",
    "print(mcu_database)\n",
    "add_movie(\"Avengers: Infinity_War\", \"Russo_Brothers\", \"2018\", \"Action, Sci-Fi\")\n",
    "print(mcu_database)\n",
    "add_movie(\"Avengers: Endgame\", \"Russo_Brothers\", \"2019\", \"Action, Sci-Fi\")\n",
    "print(mcu_database)\n",
    "add_movie(\"Avengers: Doomsday\", \"Russo_Brothers\", \"2026\", \"Action, Sci-Fi\")\n",
    "print(mcu_database)\n",
    "add_movie(\"Avengers: Secret_Wars\", \"Russo_Brothers\", \"2027\", \"Action, Sci-Fi\")\n",
    "print(mcu_database)"
   ]
  },
  {
   "cell_type": "markdown",
   "id": "d30cb361-ad15-44a0-bc4a-491181ac0f3d",
   "metadata": {},
   "source": [
    "ACADEMIC STUDENTS ORGANISING PROGRAMS"
   ]
  },
  {
   "cell_type": "markdown",
   "id": "e929a927-2407-4a0c-97cd-d8f85de831b3",
   "metadata": {},
   "source": [
    "Q4. COMPUTER SCIENCE COURSE PROGRAM "
   ]
  },
  {
   "cell_type": "code",
   "execution_count": 35,
   "id": "07a12bb9-973f-48d4-8bf9-5b2afa9b6fef",
   "metadata": {
    "collapsed": true,
    "jupyter": {
     "outputs_hidden": true,
     "source_hidden": true
    }
   },
   "outputs": [
    {
     "name": "stdout",
     "output_type": "stream",
     "text": [
      "1. Updated_Set: {'Ranveer', 'Apoorva', 'Arya', 'Ramanujan', 'Vicky', 'lewis'}\n",
      "2. Copied_Set: {'Ranveer', 'Apoorva', 'Arya', 'Ramanujan', 'Vicky', 'lewis'}\n",
      "3. Updated_2_Set: {'Ranveer', 'Apoorva', 'Arya', 'Ramanujan', 'Harish', 'Vicky', 'lewis'}\n",
      "4. Updated_3_Set: {'Ranveer', 'Apoorva', 'Arya', 'Ramanujan', 'Harish', 'Vicky'}\n",
      "5. Updated_4_Set: {'Ranveer', 'Apoorva', 'Arya', 'Ramanujan', 'Harish', 'Vicky'}\n",
      "6. Cleared_Set: set()\n"
     ]
    }
   ],
   "source": [
    "computer_science_students = {'Apoorva', 'Ranveer', 'Vicky'}\n",
    "maths_students = {'Arya', 'lewis', 'Ramanujan'}\n",
    "\n",
    "computer_science_students.update(maths_students)\n",
    "print(\"1. Updated_Set:\", computer_science_students)\n",
    "\n",
    "cpd_std_set = computer_science_students.copy()\n",
    "print(\"2. Copied_Set:\", cpd_std_set)\n",
    "\n",
    "computer_science_students.add('Harish')\n",
    "print(\"3. Updated_2_Set:\", computer_science_students)\n",
    "\n",
    "computer_science_students.discard('lewis')\n",
    "print(\"4. Updated_3_Set:\", computer_science_students)\n",
    "\n",
    "computer_science_students.discard('Bhramaputra')\n",
    "print(\"5. Updated_4_Set:\", computer_science_students)\n",
    "\n",
    "computer_science_students.clear()\n",
    "print(\"6. Cleared_Set:\", computer_science_students)"
   ]
  },
  {
   "cell_type": "markdown",
   "id": "aa3ee5b5-cfe7-41e8-ae88-45e75f50d645",
   "metadata": {},
   "source": [
    "Q5. EXTRACURRICULAR ACTIVITY STUDENTS PROGRAM"
   ]
  },
  {
   "cell_type": "code",
   "execution_count": 11,
   "id": "08303f3e-43d5-4c17-8a39-acad2e27aef8",
   "metadata": {
    "collapsed": true,
    "jupyter": {
     "outputs_hidden": true,
     "source_hidden": true
    },
    "scrolled": true
   },
   "outputs": [
    {
     "name": "stdout",
     "output_type": "stream",
     "text": [
      "1. Updated_Set_1: {'Harshita', 'Ramesh', 'Sagar', 'Vassi', 'Bora', 'Azaan'}\n",
      "2. Updated_Set_2: {'Harshita', 'Sagar', 'Vassi', 'Azaan'}\n",
      "3. Copied Set: {'Sagar', 'Vassi', 'Harshita', 'Azaan'}\n",
      "4. Update_after_popping: Harshita\n",
      "5. Cleared_Set: set()\n"
     ]
    }
   ],
   "source": [
    "activity_stds = {'Azaan', 'Sagar', 'Ramesh', 'Harshita'}\n",
    "robotics_stds = {'Vassi', 'Bora'}\n",
    "activity_stds.update(robotics_stds)\n",
    "print(\"1. Updated_Set_1:\", activity_stds)\n",
    "\n",
    "chess_club_lefts = {'Ramesh', 'Bora'}\n",
    "activity_stds.difference_update(chess_club_lefts)\n",
    "print(\"2. Updated_Set_2:\", activity_stds)\n",
    "\n",
    "copied_set = activity_stds.copy()\n",
    "print(\"3. Copied Set:\", copied_set)\n",
    "\n",
    "try:\n",
    "    popped_stds = activity_stds.pop()\n",
    "    print(\"4. Update_after_popping:\", popped_stds)\n",
    "except KeyError as empty:\n",
    "    print(\"4. KeyError:\", empty)\n",
    "\n",
    "activity_stds.clear()\n",
    "print(\"5. Cleared_Set:\", activity_stds)"
   ]
  },
  {
   "cell_type": "code",
   "execution_count": null,
   "id": "fac876ef-ab44-4f02-9278-c30af7e34039",
   "metadata": {},
   "outputs": [],
   "source": []
  }
 ],
 "metadata": {
  "kernelspec": {
   "display_name": "Python [conda env:base] *",
   "language": "python",
   "name": "conda-base-py"
  },
  "language_info": {
   "codemirror_mode": {
    "name": "ipython",
    "version": 3
   },
   "file_extension": ".py",
   "mimetype": "text/x-python",
   "name": "python",
   "nbconvert_exporter": "python",
   "pygments_lexer": "ipython3",
   "version": "3.12.7"
  }
 },
 "nbformat": 4,
 "nbformat_minor": 5
}
