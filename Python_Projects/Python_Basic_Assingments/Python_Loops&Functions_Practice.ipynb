{
 "cells": [
  {
   "cell_type": "markdown",
   "id": "95453f1a-eaa3-41af-bb30-f9a110fe4b64",
   "metadata": {},
   "source": [
    "Q1. FUNCTION FOR CHECKING POSITIVE NUMBERS."
   ]
  },
  {
   "cell_type": "code",
   "execution_count": 26,
   "id": "a1aad95c-947f-43ab-86d6-16660759a855",
   "metadata": {
    "jupyter": {
     "source_hidden": true
    }
   },
   "outputs": [],
   "source": [
    "def C_Positive():\n",
    "    print('Heyy Buddy i am positive!!, HA HA just to clear you my name is C_Positive Enter your number')\n",
    "    user_input = input('Enter number')\n",
    "    user_input = int(user_input)\n",
    "    if user_input >0:\n",
    "        print('Buddy you are positive, Sorry! your number is positive hehehe!!!')\n",
    "        C_Positive()\n",
    "    elif user_input == 0:\n",
    "        print('Zero! Are you serious, its Neutral; i am not dumb okay, BE SERIOUS HM!')\n",
    "        C_Positive()\n",
    "    else:\n",
    "        print('Negetive hmmmm, I dont like Negetives, Hope you do better next time!!')"
   ]
  },
  {
   "cell_type": "code",
   "execution_count": 27,
   "id": "0628b47d-7fd0-46e2-beb7-24f39eb6c909",
   "metadata": {
    "collapsed": true,
    "jupyter": {
     "outputs_hidden": true,
     "source_hidden": true
    }
   },
   "outputs": [
    {
     "name": "stdout",
     "output_type": "stream",
     "text": [
      "Heyy Buddy i am positive!!, HA HA just to clear you my name is C_Positive Enter your number\n"
     ]
    },
    {
     "name": "stdin",
     "output_type": "stream",
     "text": [
      "Enter number 100\n"
     ]
    },
    {
     "name": "stdout",
     "output_type": "stream",
     "text": [
      "Buddy you are positive, Sorry! your number is positive hehehe!!!\n",
      "Heyy Buddy i am positive!!, HA HA just to clear you my name is C_Positive Enter your number\n"
     ]
    },
    {
     "name": "stdin",
     "output_type": "stream",
     "text": [
      "Enter number 0\n"
     ]
    },
    {
     "name": "stdout",
     "output_type": "stream",
     "text": [
      "Zero! Are you serious, its Neutral; i am not dumb okay, BE SERIOUS HM!\n",
      "Heyy Buddy i am positive!!, HA HA just to clear you my name is C_Positive Enter your number\n"
     ]
    },
    {
     "name": "stdin",
     "output_type": "stream",
     "text": [
      "Enter number -20\n"
     ]
    },
    {
     "name": "stdout",
     "output_type": "stream",
     "text": [
      "Negetive hmmmm, I dont like Negetives, Hope you do better next time!!\n"
     ]
    }
   ],
   "source": [
    "C_Positive()"
   ]
  },
  {
   "cell_type": "markdown",
   "id": "0090eb55-7169-4f7e-a3e4-36ca0736036b",
   "metadata": {},
   "source": [
    "Q2. FUNCTION FOR CHECKING VOTE ELIGIBILITY."
   ]
  },
  {
   "cell_type": "code",
   "execution_count": 29,
   "id": "ec7bb4ed-9b0b-4f57-997e-60defa1cb472",
   "metadata": {
    "jupyter": {
     "source_hidden": true
    }
   },
   "outputs": [],
   "source": [
    "def Satyaprakash_Dubey():\n",
    "    print('Namste, Please enter your age to check if you are eligible to vote for our nation')\n",
    "    user_input = input('Enter you age')\n",
    "    user_input = int(user_input)\n",
    "    if user_input >=18:\n",
    "        print('You are eligible to VOTE for bjp, oh sorry!! for nation')\n",
    "    else:\n",
    "        print('Not eligible, once your 18 register yourself for voter id on table no 50 then fill and submit the form on table no 79')\n",
    "        print('then we will get back to you after lunch or we will call you after 200years')\n",
    "        print('in case of any inconvienience Dont call we will not pickup, Thankyou for visiting')\n",
    "        \n",
    "        "
   ]
  },
  {
   "cell_type": "code",
   "execution_count": 30,
   "id": "1ae323e1-ef22-4c3f-a722-30e563aa53f3",
   "metadata": {
    "collapsed": true,
    "jupyter": {
     "outputs_hidden": true,
     "source_hidden": true
    }
   },
   "outputs": [
    {
     "name": "stdout",
     "output_type": "stream",
     "text": [
      "Namste, Please enter your age to check if you are eligible to vote for our nation\n"
     ]
    },
    {
     "name": "stdin",
     "output_type": "stream",
     "text": [
      "Enter you age 17\n"
     ]
    },
    {
     "name": "stdout",
     "output_type": "stream",
     "text": [
      "Not eligible, once your 18 register yourself for voter id on table no 50 then fill and submit the form on table no 79\n",
      "then we will get back to you after lunch or we will call you after 200years\n",
      "in case of any inconvienience Dont call we will not pickup, Thankyou for visiting\n"
     ]
    }
   ],
   "source": [
    "Satyaprakash_Dubey()"
   ]
  },
  {
   "cell_type": "markdown",
   "id": "202958d6-20d0-40ed-a3d9-bda897815fc3",
   "metadata": {},
   "source": [
    "Q3. FUNCTION FOR REVEIWING AND GRADING TEST SCORES OF STUDENTS."
   ]
  },
  {
   "cell_type": "code",
   "execution_count": 31,
   "id": "291394c4-c721-4196-b946-f5fcfc40448e",
   "metadata": {
    "jupyter": {
     "source_hidden": true
    }
   },
   "outputs": [],
   "source": [
    "def PT_SIR():\n",
    "    print('Marks Bata')\n",
    "    user_input = input('Marks')\n",
    "    user_input = int(user_input)\n",
    "    if user_input >= 90:\n",
    "        print('Your Grade is A, Lo beta laddu khao')\n",
    "        PT_SIR()\n",
    "    elif user_input >= 70:\n",
    "        print('Your Grade is B, Le beta laddu kha')\n",
    "        PT_SIR()\n",
    "    elif user_input >= 60:\n",
    "        print('Your Grade is c, Average but Creative')\n",
    "        PT_SIR()\n",
    "    elif user_input >= 40:\n",
    "        print('Your Grade is D, Padh le kuch')\n",
    "        PT_SIR()\n",
    "    else:\n",
    "        print('Your Grade is F, Tu firse!!!')\n",
    "        PT_SIR()"
   ]
  },
  {
   "cell_type": "code",
   "execution_count": null,
   "id": "defdc31b-9165-4611-9a4e-65a8e9188d30",
   "metadata": {
    "collapsed": true,
    "jupyter": {
     "outputs_hidden": true,
     "source_hidden": true
    },
    "scrolled": true
   },
   "outputs": [
    {
     "name": "stdout",
     "output_type": "stream",
     "text": [
      "Marks Bata\n"
     ]
    },
    {
     "name": "stdin",
     "output_type": "stream",
     "text": [
      "Marks 30\n"
     ]
    },
    {
     "name": "stdout",
     "output_type": "stream",
     "text": [
      "Your Grade is F, Tu firse!!!\n",
      "Marks Bata\n"
     ]
    },
    {
     "name": "stdin",
     "output_type": "stream",
     "text": [
      "Marks 90\n"
     ]
    },
    {
     "name": "stdout",
     "output_type": "stream",
     "text": [
      "Your Grade is A, Lo beta laddu khao\n",
      "Marks Bata\n"
     ]
    }
   ],
   "source": [
    "PT_SIR()"
   ]
  },
  {
   "cell_type": "markdown",
   "id": "667cca69-3842-4adc-a7c2-7678710ddd35",
   "metadata": {},
   "source": [
    "Q4. EVEN AND ODD SIGN CHECKER PROGRAM."
   ]
  },
  {
   "cell_type": "code",
   "execution_count": null,
   "id": "61985c83-1e79-4e20-99e3-9e6d60130b3f",
   "metadata": {
    "jupyter": {
     "source_hidden": true
    }
   },
   "outputs": [],
   "source": [
    "def number_classifier():\n",
    "    user_input = input('Enter Number')\n",
    "    user_input = int(user_input)\n",
    "    if user_input >0:\n",
    "        if user_input %2 == 0:\n",
    "            print('The number is even and positive')\n",
    "        else:\n",
    "            print('The number is odd and positive')\n",
    "    elif user_input <0:\n",
    "        if user_input %2 == 0:\n",
    "            print('The number is even and negetive')\n",
    "        else:\n",
    "            print('The number is odd and negetive')\n",
    "    else:\n",
    "        print('The number is Zero ')"
   ]
  },
  {
   "cell_type": "code",
   "execution_count": null,
   "id": "739aa39e-c7c4-4550-a5c7-766e1fb926ee",
   "metadata": {},
   "outputs": [],
   "source": [
    "number_classifier()"
   ]
  },
  {
   "cell_type": "markdown",
   "id": "b0378f24-0c7b-4c42-ad56-16133ca880a7",
   "metadata": {},
   "source": [
    "Q5. FAVORITE USER COLOR PROGRAM."
   ]
  },
  {
   "cell_type": "code",
   "execution_count": null,
   "id": "bb60e1f2-d85e-4856-b029-41da80b23852",
   "metadata": {
    "jupyter": {
     "source_hidden": true
    }
   },
   "outputs": [],
   "source": [
    "pip install termcolor"
   ]
  },
  {
   "cell_type": "code",
   "execution_count": null,
   "id": "6a1b8fc4-30b7-48ee-9987-a83c8e0ac876",
   "metadata": {
    "jupyter": {
     "source_hidden": true
    }
   },
   "outputs": [],
   "source": [
    "from termcolor import colored\n",
    "\n",
    "def color():\n",
    "    clr_nm = input('Color, Color which color')\n",
    "    print(colored(f'your favorite color is {clr_nm}.', clr_nm.lower()))"
   ]
  },
  {
   "cell_type": "code",
   "execution_count": null,
   "id": "e63b2c59-d1d3-46da-b68e-b7a949c0ddbf",
   "metadata": {
    "jupyter": {
     "source_hidden": true
    },
    "scrolled": true
   },
   "outputs": [],
   "source": [
    "color()"
   ]
  },
  {
   "cell_type": "markdown",
   "id": "72df648e-16a2-4514-b4b9-a10fa3b893e1",
   "metadata": {},
   "source": [
    "Q6. REVERSE STRING LOOP FUNCTION."
   ]
  },
  {
   "cell_type": "code",
   "execution_count": null,
   "id": "45a3676f-5cce-419b-ad17-bb5686691fb3",
   "metadata": {
    "jupyter": {
     "source_hidden": true
    }
   },
   "outputs": [],
   "source": [
    "A_string = ('I am awesome')\n",
    "R_string = \"\"\n",
    "\n",
    "for char in A_string:\n",
    "    R_string = char + R_string\n",
    "print(R_string)"
   ]
  },
  {
   "cell_type": "markdown",
   "id": "265d07a5-0ddb-4f3c-9e48-9f3a4c913a38",
   "metadata": {},
   "source": [
    "Q7. PYTHON PROGRAM FOR DIAMOND OF ASTERICKS."
   ]
  },
  {
   "cell_type": "code",
   "execution_count": null,
   "id": "0396afc1-4bf1-4b3b-98cb-b249b8d62d08",
   "metadata": {
    "jupyter": {
     "source_hidden": true
    }
   },
   "outputs": [],
   "source": [
    "n=5\n",
    "for i in range(n):\n",
    "    for j in range(n-i-1):\n",
    "        print(\" \", end=\"\")\n",
    "    for j in range(2*i-1):\n",
    "        print(\"*\", end=\"\")\n",
    "    print()\n",
    "for i in range(n-2,-1,-1):\n",
    "    for j in range(n-i-1):\n",
    "        print(\" \", end=\"\")\n",
    "    for j in range(2*i-1):\n",
    "        print(\"*\", end=\"\")\n",
    "    print()"
   ]
  },
  {
   "cell_type": "markdown",
   "id": "640ccaea-7a14-4b68-95de-611269bf5f4c",
   "metadata": {},
   "source": [
    "Q8. GROCERY STORE CASHIER PROGRAM"
   ]
  },
  {
   "cell_type": "code",
   "execution_count": null,
   "id": "9be14d9c-5c5b-4a34-b307-670df7e5f7b9",
   "metadata": {
    "jupyter": {
     "source_hidden": true
    }
   },
   "outputs": [],
   "source": [
    "def S_Mart():\n",
    "    print('Hello sir!!, Welcome to S-Mart')\n",
    "    total_items = 0\n",
    "    while True:\n",
    "        cust_input = int(input('Enter your item quantity(enter 0 to finish):'))\n",
    "        if cust_input == 0:\n",
    "            break\n",
    "        total_items += cust_input\n",
    "    print(f'Your Total Items is: {total_items}')\n",
    "    print('Thankyou for shopping, Do visit Again')    "
   ]
  },
  {
   "cell_type": "code",
   "execution_count": null,
   "id": "ef286ebf-2587-45b6-8291-60e01b93ee62",
   "metadata": {
    "jupyter": {
     "source_hidden": true
    },
    "scrolled": true
   },
   "outputs": [],
   "source": [
    "S_Mart()"
   ]
  },
  {
   "cell_type": "markdown",
   "id": "7816575e-4c7f-4b63-a605-8fbabba2878d",
   "metadata": {},
   "source": [
    "Q9. 1-10 MULTIPLICATION TABLES PROGRAM"
   ]
  },
  {
   "cell_type": "code",
   "execution_count": 53,
   "id": "a80f6d91-e1ef-4e42-8343-3f0d501a4360",
   "metadata": {
    "jupyter": {
     "source_hidden": true
    }
   },
   "outputs": [],
   "source": [
    "def Table_no_21():\n",
    "    row = 1\n",
    "    while row <= 21:\n",
    "        clm = 1\n",
    "        while clm <= 10:\n",
    "            prdct = row * clm\n",
    "            print(f'{row}*{clm}={prdct}',end='\\t')\n",
    "            clm += 1\n",
    "        print()\n",
    "        row += 1"
   ]
  },
  {
   "cell_type": "code",
   "execution_count": 55,
   "id": "941b56e6-76a2-4949-8ea0-a3a8512a2904",
   "metadata": {
    "collapsed": true,
    "jupyter": {
     "outputs_hidden": true,
     "source_hidden": true
    }
   },
   "outputs": [
    {
     "name": "stdout",
     "output_type": "stream",
     "text": [
      "1*1=1\t1*2=2\t1*3=3\t1*4=4\t1*5=5\t1*6=6\t1*7=7\t1*8=8\t1*9=9\t1*10=10\t\n",
      "2*1=2\t2*2=4\t2*3=6\t2*4=8\t2*5=10\t2*6=12\t2*7=14\t2*8=16\t2*9=18\t2*10=20\t\n",
      "3*1=3\t3*2=6\t3*3=9\t3*4=12\t3*5=15\t3*6=18\t3*7=21\t3*8=24\t3*9=27\t3*10=30\t\n",
      "4*1=4\t4*2=8\t4*3=12\t4*4=16\t4*5=20\t4*6=24\t4*7=28\t4*8=32\t4*9=36\t4*10=40\t\n",
      "5*1=5\t5*2=10\t5*3=15\t5*4=20\t5*5=25\t5*6=30\t5*7=35\t5*8=40\t5*9=45\t5*10=50\t\n",
      "6*1=6\t6*2=12\t6*3=18\t6*4=24\t6*5=30\t6*6=36\t6*7=42\t6*8=48\t6*9=54\t6*10=60\t\n",
      "7*1=7\t7*2=14\t7*3=21\t7*4=28\t7*5=35\t7*6=42\t7*7=49\t7*8=56\t7*9=63\t7*10=70\t\n",
      "8*1=8\t8*2=16\t8*3=24\t8*4=32\t8*5=40\t8*6=48\t8*7=56\t8*8=64\t8*9=72\t8*10=80\t\n",
      "9*1=9\t9*2=18\t9*3=27\t9*4=36\t9*5=45\t9*6=54\t9*7=63\t9*8=72\t9*9=81\t9*10=90\t\n",
      "10*1=10\t10*2=20\t10*3=30\t10*4=40\t10*5=50\t10*6=60\t10*7=70\t10*8=80\t10*9=90\t10*10=100\t\n",
      "11*1=11\t11*2=22\t11*3=33\t11*4=44\t11*5=55\t11*6=66\t11*7=77\t11*8=88\t11*9=99\t11*10=110\t\n",
      "12*1=12\t12*2=24\t12*3=36\t12*4=48\t12*5=60\t12*6=72\t12*7=84\t12*8=96\t12*9=108\t12*10=120\t\n",
      "13*1=13\t13*2=26\t13*3=39\t13*4=52\t13*5=65\t13*6=78\t13*7=91\t13*8=104\t13*9=117\t13*10=130\t\n",
      "14*1=14\t14*2=28\t14*3=42\t14*4=56\t14*5=70\t14*6=84\t14*7=98\t14*8=112\t14*9=126\t14*10=140\t\n",
      "15*1=15\t15*2=30\t15*3=45\t15*4=60\t15*5=75\t15*6=90\t15*7=105\t15*8=120\t15*9=135\t15*10=150\t\n",
      "16*1=16\t16*2=32\t16*3=48\t16*4=64\t16*5=80\t16*6=96\t16*7=112\t16*8=128\t16*9=144\t16*10=160\t\n",
      "17*1=17\t17*2=34\t17*3=51\t17*4=68\t17*5=85\t17*6=102\t17*7=119\t17*8=136\t17*9=153\t17*10=170\t\n",
      "18*1=18\t18*2=36\t18*3=54\t18*4=72\t18*5=90\t18*6=108\t18*7=126\t18*8=144\t18*9=162\t18*10=180\t\n",
      "19*1=19\t19*2=38\t19*3=57\t19*4=76\t19*5=95\t19*6=114\t19*7=133\t19*8=152\t19*9=171\t19*10=190\t\n",
      "20*1=20\t20*2=40\t20*3=60\t20*4=80\t20*5=100\t20*6=120\t20*7=140\t20*8=160\t20*9=180\t20*10=200\t\n",
      "21*1=21\t21*2=42\t21*3=63\t21*4=84\t21*5=105\t21*6=126\t21*7=147\t21*8=168\t21*9=189\t21*10=210\t\n"
     ]
    }
   ],
   "source": [
    "Table_no_21()"
   ]
  },
  {
   "cell_type": "markdown",
   "id": "325a6267-527d-46ce-b5a0-2da5cce95045",
   "metadata": {},
   "source": [
    "Q10. CALCULATIVE LOOP OF DICTIONARY PROGRAM"
   ]
  },
  {
   "cell_type": "code",
   "execution_count": 80,
   "id": "7a9c775c-11b9-461c-9dd2-866b6a8b2247",
   "metadata": {
    "jupyter": {
     "source_hidden": true
    }
   },
   "outputs": [],
   "source": [
    "def Averages():\n",
    "    student_scores = {\n",
    "        'Hemant':['50','62','77'],\n",
    "        'Sharad':['47','96','87'],\n",
    "        'Varsha':['86','58','80']\n",
    "    }\n",
    "    avg_scores = {}\n",
    "\n",
    "    for student, scores in student_scores.items():\n",
    "        int_scores = list(map(int, scores))\n",
    "        avg = sum(int_scores) /len(int_scores)\n",
    "        avg_scores[student] = avg\n",
    "    print(avg_scores)"
   ]
  },
  {
   "cell_type": "markdown",
   "id": "c8e32a80-8144-4cfb-8423-ceabe82f7fa1",
   "metadata": {
    "collapsed": true,
    "jupyter": {
     "outputs_hidden": true
    },
    "scrolled": true
   },
   "source": [
    "Averages()"
   ]
  },
  {
   "cell_type": "markdown",
   "id": "2eaa3bb2-4aa7-4d69-bc23-26887d72a2b2",
   "metadata": {},
   "source": [
    "Q11. SHOPPING CART APPLICATION PROGRAM"
   ]
  },
  {
   "cell_type": "code",
   "execution_count": 90,
   "id": "a9cf075f-5488-4f31-bd02-b879f8473456",
   "metadata": {
    "jupyter": {
     "source_hidden": true
    }
   },
   "outputs": [],
   "source": [
    "def Vishal_MegaMart():\n",
    "    print('This is Vishal Mega Mart at your service sir, Please add your items in cart')\n",
    "    v_cart = 0\n",
    "    total_cal = 0\n",
    "    while True:\n",
    "        cust_input_1 = int(input('Please enter item quantity(If done enter 0)'))\n",
    "        cust_input_2 = int(input('Please enter item price per item'))\n",
    "        v_cart = cust_input_1*cust_input_2\n",
    "        if cust_input_1 == 0:\n",
    "            break\n",
    "        total_cal += v_cart\n",
    "    print(f'Your total is {total_cal}')\n",
    "    print('Thankyou for choosing Vishal Mega Mart, Do vist us again ')"
   ]
  },
  {
   "cell_type": "code",
   "execution_count": 91,
   "id": "bb52c73e-67e5-4edf-af73-6c2a154671f9",
   "metadata": {
    "collapsed": true,
    "jupyter": {
     "outputs_hidden": true,
     "source_hidden": true
    },
    "scrolled": true
   },
   "outputs": [
    {
     "name": "stdout",
     "output_type": "stream",
     "text": [
      "This is Vishal Mega Mart at your service sir, Please add your items in cart\n"
     ]
    },
    {
     "name": "stdin",
     "output_type": "stream",
     "text": [
      "Please enter item quantity(If done enter 0) 10\n",
      "Please enter item price per item 10\n",
      "Please enter item quantity(If done enter 0) 20\n",
      "Please enter item price per item 20\n",
      "Please enter item quantity(If done enter 0) 0\n",
      "Please enter item price per item 0\n"
     ]
    },
    {
     "name": "stdout",
     "output_type": "stream",
     "text": [
      "Your total is 500\n",
      "Thankyou for choosing Vishal Mega Mart, Do vist us again \n"
     ]
    }
   ],
   "source": [
    "Vishal_MegaMart()"
   ]
  },
  {
   "cell_type": "markdown",
   "id": "7b733ca0-c72d-4f4a-8a01-b521742712e1",
   "metadata": {},
   "source": [
    "Q12. CUSTOM DATA TRANSFORMATION PROGRAM"
   ]
  },
  {
   "cell_type": "code",
   "execution_count": 115,
   "id": "3984487c-0733-42b5-ac16-803e676813b4",
   "metadata": {
    "jupyter": {
     "source_hidden": true
    }
   },
   "outputs": [],
   "source": [
    "import ast\n",
    "def cstm_data_transformer():\n",
    "    data_input = ast.literal_eval(input('Enter your data{eg:[1,2,3,4,5]}:'))\n",
    "    transformed_data = []\n",
    "    for item in data_input:\n",
    "        transformed_item = item*2\n",
    "        transformed_data.append(transformed_item)\n",
    "    return transformed_data\n",
    "    result = cstm_data_transformer()\n",
    "    print('Transformed Data:', result)"
   ]
  },
  {
   "cell_type": "code",
   "execution_count": 117,
   "id": "dc6f5447-768b-494e-9828-4314cf7c8e4d",
   "metadata": {
    "collapsed": true,
    "jupyter": {
     "outputs_hidden": true,
     "source_hidden": true
    },
    "scrolled": true
   },
   "outputs": [
    {
     "name": "stdin",
     "output_type": "stream",
     "text": [
      "Enter your data{eg:[1,2,3,4,5]}: 2,4,6,8,10\n"
     ]
    },
    {
     "data": {
      "text/plain": [
       "[4, 8, 12, 16, 20]"
      ]
     },
     "execution_count": 117,
     "metadata": {},
     "output_type": "execute_result"
    }
   ],
   "source": [
    "cstm_data_transformer()"
   ]
  },
  {
   "cell_type": "markdown",
   "id": "8636d73a-fb9c-4e50-b7f8-08ef7f8a75ad",
   "metadata": {},
   "source": [
    "Q13. LOGIN CREDENTIALS VERIFIER PROGRAM"
   ]
  },
  {
   "cell_type": "code",
   "execution_count": 120,
   "id": "b9b3c083-eea1-4c6f-82a4-014e4456e47d",
   "metadata": {
    "jupyter": {
     "source_hidden": true
    }
   },
   "outputs": [],
   "source": [
    "Username = 'Amitabh_B'\n",
    "Password = 'Rekha_G'\n",
    "def Digi_Watchman():\n",
    "    print('Hi, I am your Digial Security Guard')\n",
    "    usr_input = input('Please enter your username')\n",
    "    pwd_input = input('Please enter your password')\n",
    "    if usr_input == Username:\n",
    "        if pwd_input == Password:\n",
    "            print('Login access granted, Welcome!')\n",
    "        else:\n",
    "            print('Login access denied, please try again')\n",
    "            Digi_Watchman()\n",
    "    else:\n",
    "        print('Error 504 Invalid input')\n",
    "        Digi_Watchman()"
   ]
  },
  {
   "cell_type": "code",
   "execution_count": 123,
   "id": "4bafa57a-a65e-4a96-82c1-5a85f604a9d4",
   "metadata": {
    "collapsed": true,
    "jupyter": {
     "outputs_hidden": true,
     "source_hidden": true
    },
    "scrolled": true
   },
   "outputs": [
    {
     "name": "stdout",
     "output_type": "stream",
     "text": [
      "Hi, I am your Digial Security Guard\n"
     ]
    },
    {
     "name": "stdin",
     "output_type": "stream",
     "text": [
      "Please enter your username Amitabh_B\n",
      "Please enter your password Rekha_G\n"
     ]
    },
    {
     "name": "stdout",
     "output_type": "stream",
     "text": [
      "Login access granted, Welcome!\n"
     ]
    }
   ],
   "source": [
    "Digi_Watchman()"
   ]
  },
  {
   "cell_type": "markdown",
   "id": "692f0f04-9dde-4615-b3da-16c82e024243",
   "metadata": {},
   "source": [
    "Q14. PLAYER GAME STATS ORGANIZER PROGRAM"
   ]
  },
  {
   "cell_type": "code",
   "execution_count": 3,
   "id": "afbeb2ed-48a5-438a-93fc-28da59ed0bd0",
   "metadata": {
    "jupyter": {
     "source_hidden": true
    }
   },
   "outputs": [],
   "source": [
    "CJ_sts ={\n",
    "    'Health': 500,\n",
    "    'Score': 100,\n",
    "    'Level': 1\n",
    "}\n",
    "\n",
    "def damage():\n",
    "    dmg_input = int(input('Enter amount of damage taken:'))\n",
    "    if dmg_input <= 500:\n",
    "        CJ_sts['Health'] -= dmg_input\n",
    "        print(f\"Health: {CJ_sts['Health']}\")\n",
    "    else:\n",
    "        print('CJ is Dead')\n",
    "\n",
    "def score():\n",
    "    scr_input = int(input('Enter your gained score:'))\n",
    "    CJ_sts['Score'] += scr_input\n",
    "    print(f\"Score: {CJ_sts['Score']}\")\n",
    "\n",
    "def level_update():\n",
    "    lvl_input = input('Define')\n",
    "    if lvl_input == 'Level up':\n",
    "        CJ_sts['Level'] += 1\n",
    "        print(f\"Level: {CJ_sts['Level']}\")\n",
    "    elif lvl_input == 'Level down':\n",
    "        CJ_sts['Level'] -= 1\n",
    "        print(f\"Level: {CJ_sts['Level']}\")\n",
    "\n",
    "def CJ_Stats():\n",
    "    print('Hey update your stats here')\n",
    "    print(\"CJ_sts['Heath','Score','Level']\")\n",
    "    damage()\n",
    "    score()\n",
    "    level_update()"
   ]
  },
  {
   "cell_type": "code",
   "execution_count": null,
   "id": "2668f6fc-1f47-44ea-8a93-b340df5b0398",
   "metadata": {
    "collapsed": true,
    "jupyter": {
     "outputs_hidden": true,
     "source_hidden": true
    },
    "scrolled": true
   },
   "outputs": [
    {
     "name": "stdout",
     "output_type": "stream",
     "text": [
      "Hey update your stats here\n",
      "CJ_sts['Heath','Score','Level']\n"
     ]
    }
   ],
   "source": [
    "CJ_Stats()"
   ]
  },
  {
   "cell_type": "markdown",
   "id": "3f761968-d7b6-4cfe-a25d-19bcaf377cf9",
   "metadata": {},
   "source": [
    "Q15. CALCULATOR PROGRAM."
   ]
  },
  {
   "cell_type": "code",
   "execution_count": 29,
   "id": "a3ca19a9-52d7-497e-a4fe-db9b122c5c4b",
   "metadata": {
    "jupyter": {
     "source_hidden": true
    }
   },
   "outputs": [],
   "source": [
    "def add(x, y):\n",
    "    result_A = x + y\n",
    "    print(f\"Result: {result_A}\")\n",
    "    return result_A\n",
    "\n",
    "def sub(x, y):\n",
    "    result_S = x - y\n",
    "    print(f\"Result: {result_S}\")\n",
    "    return result_S\n",
    "\n",
    "def mtply(x, y):\n",
    "    result_M = x * y\n",
    "    print(f\"Result: {result_M}\")\n",
    "    return result_M\n",
    "\n",
    "def div(x, y):\n",
    "    if y == 0:\n",
    "        print(\"Error: Division by zero\")\n",
    "        return None\n",
    "    else:\n",
    "        result_D = x / y\n",
    "        print(f\"Result: {result_D}\")\n",
    "        return result_D\n",
    "\n",
    "def Calculator():\n",
    "    x_input = float(input('Enter X:'))    \n",
    "    y_input = float(input('Enter Y:'))\n",
    "    print('Choose Operation:\\n1.Addition\\n2.Subtraction\\n3.Multiplication\\n4.Division')\n",
    "    cal_input = int(input('Choose Operetion: '))\n",
    "    if cal_input == 1:\n",
    "        add(x_input, y_input)\n",
    "    elif cal_input == 2:\n",
    "        sub(x_input, y_input)\n",
    "    elif cal_input == 3:\n",
    "        mtply(x_input, y_input)\n",
    "    elif cal_input == 4:\n",
    "        div(x_input, y_input)\n",
    "    else:\n",
    "        print(\"Invalid Operation\")"
   ]
  },
  {
   "cell_type": "code",
   "execution_count": 31,
   "id": "3155d1c5-3abf-4c69-afdc-44010df56760",
   "metadata": {
    "collapsed": true,
    "jupyter": {
     "outputs_hidden": true,
     "source_hidden": true
    }
   },
   "outputs": [
    {
     "name": "stdin",
     "output_type": "stream",
     "text": [
      "Enter X: 100\n",
      "Enter Y: 2\n"
     ]
    },
    {
     "name": "stdout",
     "output_type": "stream",
     "text": [
      "Choose Operation:\n",
      "1.Addition\n",
      "2.Subtraction\n",
      "3.Multiplication\n",
      "4.Division\n"
     ]
    },
    {
     "name": "stdin",
     "output_type": "stream",
     "text": [
      "Choose Operetion:  4\n"
     ]
    },
    {
     "name": "stdout",
     "output_type": "stream",
     "text": [
      "Result: 50.0\n"
     ]
    }
   ],
   "source": [
    "Calculator()"
   ]
  },
  {
   "cell_type": "markdown",
   "id": "6bc9bd80-d5e2-4931-bf33-746b301dbf27",
   "metadata": {},
   "source": [
    "Q16. USER AUTHENTICATION PROGRAM."
   ]
  },
  {
   "cell_type": "code",
   "execution_count": 28,
   "id": "c0eef780-730e-4616-b8e7-9ee9000ed372",
   "metadata": {
    "jupyter": {
     "source_hidden": true
    },
    "scrolled": true
   },
   "outputs": [],
   "source": [
    "def User_Authentication(users):\n",
    "    input_username = input('Enter Username')\n",
    "    input_password = input('Enter Password')\n",
    "    fltrd_users = list(filter(\n",
    "        lambda user: user.get('username') == input_username and user.get('password') == input_password,\n",
    "        users\n",
    "    ))\n",
    "    return fltrd_users[0] if fltrd_users else None"
   ]
  },
  {
   "cell_type": "code",
   "execution_count": 25,
   "id": "b71d292a-1dee-4abe-8806-480f58d1e6ab",
   "metadata": {
    "collapsed": true,
    "jupyter": {
     "outputs_hidden": true,
     "source_hidden": true
    }
   },
   "outputs": [
    {
     "name": "stdin",
     "output_type": "stream",
     "text": [
      "Enter Username bob\n",
      "Enter Password secret\n"
     ]
    },
    {
     "name": "stdout",
     "output_type": "stream",
     "text": [
      "Login successful: {'username': 'bob', 'password': 'secret'}\n"
     ]
    }
   ],
   "source": [
    "users = [\n",
    "    {'username': 'alice', 'password': 'pass123'},\n",
    "    {'username': 'bob', 'password': 'secret'}\n",
    "]\n",
    "\n",
    "authenticated_user = User_Authentication(users)\n",
    "if authenticated_user:\n",
    "    print(\"Login successful:\", authenticated_user)\n",
    "else:\n",
    "    print(\"Login failed.\")"
   ]
  },
  {
   "cell_type": "markdown",
   "id": "0e9d6fb4-a0b5-468f-8b59-86dff7a0feb8",
   "metadata": {},
   "source": [
    "Q17. BOOKS SORTING PROGRAM."
   ]
  },
  {
   "cell_type": "code",
   "execution_count": 36,
   "id": "fddb4756-53f4-41d1-9369-f122bb107d90",
   "metadata": {
    "jupyter": {
     "source_hidden": true
    }
   },
   "outputs": [],
   "source": [
    "def Librarian_Dubey(books, min_price, max_price):\n",
    "    fltrd_bks = list(filter(lambda book: min_price <= book['price'] <= max_price, books))\n",
    "    srtd_bks = sorted(fltrd_bks, key=lambda book: book['price'])\n",
    "    return srtd_bks"
   ]
  },
  {
   "cell_type": "code",
   "execution_count": 38,
   "id": "4765b634-6fe0-4b25-9688-bb678cdb02ff",
   "metadata": {
    "collapsed": true,
    "jupyter": {
     "outputs_hidden": true,
     "source_hidden": true
    },
    "scrolled": true
   },
   "outputs": [
    {
     "name": "stdout",
     "output_type": "stream",
     "text": [
      "[{'title': 'Book 2', 'author': 'Author B', 'price': 15.49}, {'title': 'Book 3', 'author': 'Author C', 'price': 19.99}]\n"
     ]
    }
   ],
   "source": [
    "Books = [\n",
    "    {'title': 'Book 1', 'author': 'Author A', 'price': 25.99},\n",
    "    {'title': 'Book 2', 'author': 'Author B', 'price': 15.49},\n",
    "    {'title': 'Book 3', 'author': 'Author C', 'price': 19.99},\n",
    "]\n",
    "\n",
    "result = Librarian_Dubey(Books, 15, 22)\n",
    "print(result)"
   ]
  }
 ],
 "metadata": {
  "kernelspec": {
   "display_name": "Python [conda env:base] *",
   "language": "python",
   "name": "conda-base-py"
  },
  "language_info": {
   "codemirror_mode": {
    "name": "ipython",
    "version": 3
   },
   "file_extension": ".py",
   "mimetype": "text/x-python",
   "name": "python",
   "nbconvert_exporter": "python",
   "pygments_lexer": "ipython3",
   "version": "3.12.7"
  }
 },
 "nbformat": 4,
 "nbformat_minor": 5
}
